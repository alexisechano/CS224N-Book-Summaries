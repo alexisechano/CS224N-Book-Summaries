{
 "cells": [
  {
   "attachments": {},
   "cell_type": "markdown",
   "metadata": {},
   "source": [
    "# Naive Bayes Model to Classify Genres\n",
    "\n",
    "In this notebook, we will conduct training and testing on our book summary data. First, we will establish a baseline through Multinomial Naive Bayes then conduct our more robust transformer modeling later on"
   ]
  },
  {
   "cell_type": "code",
   "execution_count": 1,
   "metadata": {},
   "outputs": [],
   "source": [
    "# import libraries\n",
    "import pandas as pd\n",
    "import seaborn as sns\n",
    "import matplotlib.pyplot as plt   \n",
    "import numpy as np\n",
    "\n",
    "from sklearn.naive_bayes import MultinomialNB\n",
    "from sklearn.metrics import accuracy_score\n",
    "from sklearn.metrics import confusion_matrix\n",
    "from sklearn.metrics import classification_report"
   ]
  },
  {
   "cell_type": "code",
   "execution_count": 2,
   "metadata": {},
   "outputs": [
    {
     "data": {
      "text/html": [
       "<div>\n",
       "<style scoped>\n",
       "    .dataframe tbody tr th:only-of-type {\n",
       "        vertical-align: middle;\n",
       "    }\n",
       "\n",
       "    .dataframe tbody tr th {\n",
       "        vertical-align: top;\n",
       "    }\n",
       "\n",
       "    .dataframe thead th {\n",
       "        text-align: right;\n",
       "    }\n",
       "</style>\n",
       "<table border=\"1\" class=\"dataframe\">\n",
       "  <thead>\n",
       "    <tr style=\"text-align: right;\">\n",
       "      <th></th>\n",
       "      <th>Unnamed: 0</th>\n",
       "      <th>Wikipedia ID</th>\n",
       "      <th>Freebase ID</th>\n",
       "      <th>Title</th>\n",
       "      <th>Author</th>\n",
       "      <th>Publication Date</th>\n",
       "      <th>Genres</th>\n",
       "      <th>Summary</th>\n",
       "      <th>CleanSummary</th>\n",
       "    </tr>\n",
       "  </thead>\n",
       "  <tbody>\n",
       "    <tr>\n",
       "      <th>0</th>\n",
       "      <td>1092</td>\n",
       "      <td>453257</td>\n",
       "      <td>/m/02bc8q</td>\n",
       "      <td>Encounter With Tiber</td>\n",
       "      <td>Buzz Aldrin</td>\n",
       "      <td>1996</td>\n",
       "      <td>Science Fiction</td>\n",
       "      <td>9,000 years ago an alien society in the Alpha...</td>\n",
       "      <td>years ago alien society alpha centauri system ...</td>\n",
       "    </tr>\n",
       "    <tr>\n",
       "      <th>1</th>\n",
       "      <td>10276</td>\n",
       "      <td>12185816</td>\n",
       "      <td>/m/02vtnv1</td>\n",
       "      <td>Princess Academy</td>\n",
       "      <td>Shannon Hale</td>\n",
       "      <td>2005-06-16</td>\n",
       "      <td>Children's literature</td>\n",
       "      <td>Miri is a fourteen-year-old girl from Mount E...</td>\n",
       "      <td>miri fourteenyearold girl mount eskel isolated...</td>\n",
       "    </tr>\n",
       "    <tr>\n",
       "      <th>2</th>\n",
       "      <td>7421</td>\n",
       "      <td>6564761</td>\n",
       "      <td>/m/0gbsxh</td>\n",
       "      <td>Cyborg</td>\n",
       "      <td>Martin Caidin</td>\n",
       "      <td>1972-04</td>\n",
       "      <td>Techno-thriller</td>\n",
       "      <td>Cyborg is the story of an astronaut-turned-te...</td>\n",
       "      <td>cyborg story astronautturnedtest pilot steve a...</td>\n",
       "    </tr>\n",
       "    <tr>\n",
       "      <th>3</th>\n",
       "      <td>14634</td>\n",
       "      <td>24913860</td>\n",
       "      <td>/m/09gghmb</td>\n",
       "      <td>Star Wars: Crosscurrent</td>\n",
       "      <td>Paul S. Kemp</td>\n",
       "      <td>NaN</td>\n",
       "      <td>Science Fiction</td>\n",
       "      <td>In 5000 BBY, the Sith Lord Saes Rrogan gather...</td>\n",
       "      <td>bby sith lord saes rrogan gathers forceenhanci...</td>\n",
       "    </tr>\n",
       "    <tr>\n",
       "      <th>4</th>\n",
       "      <td>16374</td>\n",
       "      <td>33580925</td>\n",
       "      <td>/m/0hgmd01</td>\n",
       "      <td>Children of Paranoia</td>\n",
       "      <td>NaN</td>\n",
       "      <td>2011-09</td>\n",
       "      <td>Thriller</td>\n",
       "      <td>Since the age of eighteen, Joseph has been as...</td>\n",
       "      <td>since age eighteen joseph assassinating people...</td>\n",
       "    </tr>\n",
       "  </tbody>\n",
       "</table>\n",
       "</div>"
      ],
      "text/plain": [
       "   Unnamed: 0  Wikipedia ID Freebase ID                    Title  \\\n",
       "0        1092        453257   /m/02bc8q     Encounter With Tiber   \n",
       "1       10276      12185816  /m/02vtnv1         Princess Academy   \n",
       "2        7421       6564761   /m/0gbsxh                   Cyborg   \n",
       "3       14634      24913860  /m/09gghmb  Star Wars: Crosscurrent   \n",
       "4       16374      33580925  /m/0hgmd01     Children of Paranoia   \n",
       "\n",
       "          Author Publication Date                 Genres  \\\n",
       "0    Buzz Aldrin             1996        Science Fiction   \n",
       "1   Shannon Hale       2005-06-16  Children's literature   \n",
       "2  Martin Caidin          1972-04        Techno-thriller   \n",
       "3   Paul S. Kemp              NaN        Science Fiction   \n",
       "4            NaN          2011-09               Thriller   \n",
       "\n",
       "                                             Summary  \\\n",
       "0   9,000 years ago an alien society in the Alpha...   \n",
       "1   Miri is a fourteen-year-old girl from Mount E...   \n",
       "2   Cyborg is the story of an astronaut-turned-te...   \n",
       "3   In 5000 BBY, the Sith Lord Saes Rrogan gather...   \n",
       "4   Since the age of eighteen, Joseph has been as...   \n",
       "\n",
       "                                        CleanSummary  \n",
       "0  years ago alien society alpha centauri system ...  \n",
       "1  miri fourteenyearold girl mount eskel isolated...  \n",
       "2  cyborg story astronautturnedtest pilot steve a...  \n",
       "3  bby sith lord saes rrogan gathers forceenhanci...  \n",
       "4  since age eighteen joseph assassinating people...  "
      ]
     },
     "execution_count": 2,
     "metadata": {},
     "output_type": "execute_result"
    }
   ],
   "source": [
    "# load the data\n",
    "train_data = 'data/train_data.zip'\n",
    "test_data = 'data/test_data.zip'\n",
    "\n",
    "df_train = pd.read_csv(train_data)\n",
    "df_test = pd.read_csv(test_data)\n",
    "\n",
    "# show the dataframes\n",
    "df_train.head()\n",
    "df_test.head()"
   ]
  },
  {
   "attachments": {},
   "cell_type": "markdown",
   "metadata": {},
   "source": [
    "#### Tokenizing data\n",
    "\n",
    "We will be tokenizing data using CountVectorizer() for our Multinomial Naive-Bayes Baseline."
   ]
  },
  {
   "cell_type": "code",
   "execution_count": 3,
   "metadata": {},
   "outputs": [],
   "source": [
    "# tokenize data for Naive Bayes\n",
    "from sklearn.feature_extraction.text import CountVectorizer\n",
    "cvect = CountVectorizer()\n",
    "\n",
    "# apply the vectorizer to training data\n",
    "training_counts = cvect.fit_transform(df_train.CleanSummary.values.astype('U'))\n",
    "train_nb_actual = df_train.Genres"
   ]
  },
  {
   "cell_type": "code",
   "execution_count": 4,
   "metadata": {},
   "outputs": [],
   "source": [
    "# apply the vectorizer to the test data\n",
    "testing_counts = cvect.transform(df_test.CleanSummary.values.astype('U'))\n",
    "test_nb_actual = df_test.Genres"
   ]
  },
  {
   "attachments": {},
   "cell_type": "markdown",
   "metadata": {},
   "source": [
    "#### Apply the Naive Bayes Model\n",
    "\n",
    "We will now use the data above to calculate a baseline accuracy."
   ]
  },
  {
   "cell_type": "code",
   "execution_count": 5,
   "metadata": {},
   "outputs": [
    {
     "name": "stdout",
     "output_type": "stream",
     "text": [
      "Multinomial Naive Bayes Accuracy: 0.4275506153235411\n"
     ]
    }
   ],
   "source": [
    "# apply naive bayes model\n",
    "mnb_model = MultinomialNB().fit(training_counts, train_nb_actual)\n",
    "mnb_outputs = mnb_model.predict(testing_counts)\n",
    "\n",
    "# calculate accuracy\n",
    "mnb_acc = accuracy_score(mnb_outputs, test_nb_actual)\n",
    "print(\"Multinomial Naive Bayes Accuracy:\", mnb_acc)"
   ]
  },
  {
   "cell_type": "code",
   "execution_count": null,
   "metadata": {},
   "outputs": [],
   "source": [
    "# confusion matrix\n",
    "genres = list(set(df_test.Genres))\n",
    "nb_conf = confusion_matrix(test_nb_actual, mnb_outputs, labels=genres)\n",
    "\n",
    "plt.figure(figsize=(50,50))\n",
    "ax=plt.subplot()\n",
    "sns.heatmap(nb_conf, annot=True, fmt='g', ax=ax);  #annot=True to annotate cells, ftm='g' to disable scientific notation\n",
    "\n",
    "# labels, title and ticks\n",
    "ax.set_xlabel('Predicted labels', fontsize=14)\n",
    "ax.set_ylabel('True labels', fontsize=14)\n",
    "ax.set_title('Multinomial NB Confusion Matrix', fontsize=20)\n",
    "ax.xaxis.set_ticklabels(genres, fontsize=10)\n",
    "ax.yaxis.set_ticklabels(genres, fontsize=10)\n",
    "\n",
    "plt.savefig('figures/mnb_confmat.jpg')"
   ]
  },
  {
   "cell_type": "code",
   "execution_count": 10,
   "metadata": {},
   "outputs": [
    {
     "name": "stdout",
     "output_type": "stream",
     "text": [
      "                                          precision    recall  f1-score   support\n",
      "\n",
      "                         Adventure novel       0.00      0.00      0.00         8\n",
      "                       Alternate history       1.00      0.03      0.05        40\n",
      "Apocalyptic and post-apocalyptic fiction       0.00      0.00      0.00         1\n",
      "                  Autobiographical novel       0.00      0.00      0.00        15\n",
      "                           Autobiography       0.00      0.00      0.00        25\n",
      "                           Bildungsroman       0.00      0.00      0.00         3\n",
      "                               Biography       0.00      0.00      0.00        16\n",
      "                            Black comedy       0.00      0.00      0.00         4\n",
      "                   Children's literature       0.43      0.57      0.49       249\n",
      "                                  Comedy       0.00      0.00      0.00        12\n",
      "                             Comic novel       0.00      0.00      0.00        15\n",
      "                           Crime Fiction       0.78      0.54      0.64       127\n",
      "                       Detective fiction       0.00      0.00      0.00        11\n",
      "                                Dystopia       0.00      0.00      0.00         3\n",
      "                                 Fantasy       0.56      0.15      0.24       123\n",
      "                                 Fiction       0.25      0.58      0.35       203\n",
      "                                Gamebook       0.00      0.00      0.00         7\n",
      "                          Gothic fiction       0.00      0.00      0.00        17\n",
      "                            High fantasy       0.00      0.00      0.00         2\n",
      "                      Historical fiction       0.86      0.11      0.19        55\n",
      "                        Historical novel       0.00      0.00      0.00        43\n",
      "                                 History       0.00      0.00      0.00        16\n",
      "                                  Horror       0.00      0.00      0.00        20\n",
      "                        Literary fiction       0.00      0.00      0.00         9\n",
      "                                  Memoir       0.00      0.00      0.00        10\n",
      "                                 Mystery       0.76      0.44      0.56       142\n",
      "                             Non-fiction       1.00      0.07      0.13        43\n",
      "                                   Novel       0.27      0.12      0.17       193\n",
      "                                 Novella       0.00      0.00      0.00         8\n",
      "                              Philosophy       0.00      0.00      0.00         1\n",
      "                            Picture book       0.00      0.00      0.00         9\n",
      "                               Reference       0.00      0.00      0.00         2\n",
      "                       Role-playing game       0.00      0.00      0.00         6\n",
      "                           Romance novel       0.00      0.00      0.00        14\n",
      "                                  Satire       0.00      0.00      0.00        12\n",
      "                         Science Fiction       0.49      0.88      0.63       539\n",
      "                             Short story       0.00      0.00      0.00         9\n",
      "                     Speculative fiction       0.33      0.47      0.39       291\n",
      "                             Spy fiction       0.00      0.00      0.00        26\n",
      "                               Steampunk       0.00      0.00      0.00         3\n",
      "                         Techno-thriller       0.00      0.00      0.00         8\n",
      "                                Thriller       0.48      0.20      0.28       102\n",
      "                           Urban fantasy       0.00      0.00      0.00         4\n",
      "           Utopian and dystopian fiction       0.00      0.00      0.00         1\n",
      "                               War novel       0.00      0.00      0.00         6\n",
      "                                 Western       0.00      0.00      0.00         8\n",
      "                  Young adult literature       0.60      0.05      0.10        58\n",
      "\n",
      "                                accuracy                           0.43      2519\n",
      "                               macro avg       0.17      0.09      0.09      2519\n",
      "                            weighted avg       0.42      0.43      0.37      2519\n",
      "\n"
     ]
    },
    {
     "name": "stderr",
     "output_type": "stream",
     "text": [
      "/Users/jmc/cs224n/CS224N-Book-Summaries/cs224n_finalproj/lib/python3.10/site-packages/sklearn/metrics/_classification.py:1344: UndefinedMetricWarning: Precision and F-score are ill-defined and being set to 0.0 in labels with no predicted samples. Use `zero_division` parameter to control this behavior.\n",
      "  _warn_prf(average, modifier, msg_start, len(result))\n",
      "/Users/jmc/cs224n/CS224N-Book-Summaries/cs224n_finalproj/lib/python3.10/site-packages/sklearn/metrics/_classification.py:1344: UndefinedMetricWarning: Precision and F-score are ill-defined and being set to 0.0 in labels with no predicted samples. Use `zero_division` parameter to control this behavior.\n",
      "  _warn_prf(average, modifier, msg_start, len(result))\n",
      "/Users/jmc/cs224n/CS224N-Book-Summaries/cs224n_finalproj/lib/python3.10/site-packages/sklearn/metrics/_classification.py:1344: UndefinedMetricWarning: Precision and F-score are ill-defined and being set to 0.0 in labels with no predicted samples. Use `zero_division` parameter to control this behavior.\n",
      "  _warn_prf(average, modifier, msg_start, len(result))\n"
     ]
    }
   ],
   "source": [
    "metrics = classification_report(test_nb_actual, mnb_outputs)\n",
    "print(metrics)"
   ]
  }
 ],
 "metadata": {
  "kernelspec": {
   "display_name": "cs224n_finalproj",
   "language": "python",
   "name": "python3"
  },
  "language_info": {
   "codemirror_mode": {
    "name": "ipython",
    "version": 3
   },
   "file_extension": ".py",
   "mimetype": "text/x-python",
   "name": "python",
   "nbconvert_exporter": "python",
   "pygments_lexer": "ipython3",
   "version": "3.10.10"
  },
  "orig_nbformat": 4,
  "vscode": {
   "interpreter": {
    "hash": "1f3e6f7a20edffb9d038ab44e54cc16a497f6e240d17c5826cba63a762f9592a"
   }
  }
 },
 "nbformat": 4,
 "nbformat_minor": 2
}
