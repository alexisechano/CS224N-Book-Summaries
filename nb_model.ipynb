{
 "cells": [
  {
   "attachments": {},
   "cell_type": "markdown",
   "metadata": {},
   "source": [
    "# Naive Bayes Model to Classify Genres\n",
    "\n",
    "In this notebook, we will conduct training and testing on our book summary data. First, we will establish a baseline through Multinomial Naive Bayes then conduct our more robust transformer modeling later on"
   ]
  },
  {
   "cell_type": "code",
   "execution_count": 1,
   "metadata": {},
   "outputs": [],
   "source": [
    "# import libraries\n",
    "import pandas as pd\n",
    "import seaborn as sns\n",
    "import matplotlib.pyplot as plt   \n",
    "import numpy as np\n",
    "\n",
    "from sklearn.naive_bayes import MultinomialNB\n",
    "from sklearn.metrics import accuracy_score\n",
    "from sklearn.metrics import confusion_matrix\n",
    "from sklearn.metrics import classification_report"
   ]
  },
  {
   "cell_type": "code",
   "execution_count": 2,
   "metadata": {},
   "outputs": [
    {
     "data": {
      "text/html": [
       "<div>\n",
       "<style scoped>\n",
       "    .dataframe tbody tr th:only-of-type {\n",
       "        vertical-align: middle;\n",
       "    }\n",
       "\n",
       "    .dataframe tbody tr th {\n",
       "        vertical-align: top;\n",
       "    }\n",
       "\n",
       "    .dataframe thead th {\n",
       "        text-align: right;\n",
       "    }\n",
       "</style>\n",
       "<table border=\"1\" class=\"dataframe\">\n",
       "  <thead>\n",
       "    <tr style=\"text-align: right;\">\n",
       "      <th></th>\n",
       "      <th>Unnamed: 0</th>\n",
       "      <th>Wikipedia ID</th>\n",
       "      <th>Freebase ID</th>\n",
       "      <th>Title</th>\n",
       "      <th>Author</th>\n",
       "      <th>Publication Date</th>\n",
       "      <th>Genres</th>\n",
       "      <th>Summary</th>\n",
       "      <th>CleanSummary</th>\n",
       "    </tr>\n",
       "  </thead>\n",
       "  <tbody>\n",
       "    <tr>\n",
       "      <th>0</th>\n",
       "      <td>1092</td>\n",
       "      <td>453257</td>\n",
       "      <td>/m/02bc8q</td>\n",
       "      <td>Encounter With Tiber</td>\n",
       "      <td>Buzz Aldrin</td>\n",
       "      <td>1996</td>\n",
       "      <td>Science Fiction</td>\n",
       "      <td>9,000 years ago an alien society in the Alpha...</td>\n",
       "      <td>years ago alien society alpha centauri system ...</td>\n",
       "    </tr>\n",
       "    <tr>\n",
       "      <th>1</th>\n",
       "      <td>10276</td>\n",
       "      <td>12185816</td>\n",
       "      <td>/m/02vtnv1</td>\n",
       "      <td>Princess Academy</td>\n",
       "      <td>Shannon Hale</td>\n",
       "      <td>2005-06-16</td>\n",
       "      <td>Children's literature</td>\n",
       "      <td>Miri is a fourteen-year-old girl from Mount E...</td>\n",
       "      <td>miri fourteenyearold girl mount eskel isolated...</td>\n",
       "    </tr>\n",
       "    <tr>\n",
       "      <th>2</th>\n",
       "      <td>7421</td>\n",
       "      <td>6564761</td>\n",
       "      <td>/m/0gbsxh</td>\n",
       "      <td>Cyborg</td>\n",
       "      <td>Martin Caidin</td>\n",
       "      <td>1972-04</td>\n",
       "      <td>Techno-thriller</td>\n",
       "      <td>Cyborg is the story of an astronaut-turned-te...</td>\n",
       "      <td>cyborg story astronautturnedtest pilot steve a...</td>\n",
       "    </tr>\n",
       "    <tr>\n",
       "      <th>3</th>\n",
       "      <td>14634</td>\n",
       "      <td>24913860</td>\n",
       "      <td>/m/09gghmb</td>\n",
       "      <td>Star Wars: Crosscurrent</td>\n",
       "      <td>Paul S. Kemp</td>\n",
       "      <td>NaN</td>\n",
       "      <td>Science Fiction</td>\n",
       "      <td>In 5000 BBY, the Sith Lord Saes Rrogan gather...</td>\n",
       "      <td>bby sith lord saes rrogan gathers forceenhanci...</td>\n",
       "    </tr>\n",
       "    <tr>\n",
       "      <th>4</th>\n",
       "      <td>16374</td>\n",
       "      <td>33580925</td>\n",
       "      <td>/m/0hgmd01</td>\n",
       "      <td>Children of Paranoia</td>\n",
       "      <td>NaN</td>\n",
       "      <td>2011-09</td>\n",
       "      <td>Thriller</td>\n",
       "      <td>Since the age of eighteen, Joseph has been as...</td>\n",
       "      <td>since age eighteen joseph assassinating people...</td>\n",
       "    </tr>\n",
       "  </tbody>\n",
       "</table>\n",
       "</div>"
      ],
      "text/plain": [
       "   Unnamed: 0  Wikipedia ID Freebase ID                    Title  \\\n",
       "0        1092        453257   /m/02bc8q     Encounter With Tiber   \n",
       "1       10276      12185816  /m/02vtnv1         Princess Academy   \n",
       "2        7421       6564761   /m/0gbsxh                   Cyborg   \n",
       "3       14634      24913860  /m/09gghmb  Star Wars: Crosscurrent   \n",
       "4       16374      33580925  /m/0hgmd01     Children of Paranoia   \n",
       "\n",
       "          Author Publication Date                 Genres  \\\n",
       "0    Buzz Aldrin             1996        Science Fiction   \n",
       "1   Shannon Hale       2005-06-16  Children's literature   \n",
       "2  Martin Caidin          1972-04        Techno-thriller   \n",
       "3   Paul S. Kemp              NaN        Science Fiction   \n",
       "4            NaN          2011-09               Thriller   \n",
       "\n",
       "                                             Summary  \\\n",
       "0   9,000 years ago an alien society in the Alpha...   \n",
       "1   Miri is a fourteen-year-old girl from Mount E...   \n",
       "2   Cyborg is the story of an astronaut-turned-te...   \n",
       "3   In 5000 BBY, the Sith Lord Saes Rrogan gather...   \n",
       "4   Since the age of eighteen, Joseph has been as...   \n",
       "\n",
       "                                        CleanSummary  \n",
       "0  years ago alien society alpha centauri system ...  \n",
       "1  miri fourteenyearold girl mount eskel isolated...  \n",
       "2  cyborg story astronautturnedtest pilot steve a...  \n",
       "3  bby sith lord saes rrogan gathers forceenhanci...  \n",
       "4  since age eighteen joseph assassinating people...  "
      ]
     },
     "execution_count": 2,
     "metadata": {},
     "output_type": "execute_result"
    }
   ],
   "source": [
    "# load the data\n",
    "train_data = 'data/train_data.zip'\n",
    "test_data = 'data/test_data.zip'\n",
    "\n",
    "df_train = pd.read_csv(train_data)\n",
    "df_test = pd.read_csv(test_data)\n",
    "\n",
    "# show the dataframes\n",
    "df_train.head()\n",
    "df_test.head()"
   ]
  },
  {
   "attachments": {},
   "cell_type": "markdown",
   "metadata": {},
   "source": [
    "#### Tokenizing data\n",
    "\n",
    "We will be tokenizing data using CountVectorizer() for our Multinomial Naive-Bayes Baseline."
   ]
  },
  {
   "cell_type": "code",
   "execution_count": 3,
   "metadata": {},
   "outputs": [],
   "source": [
    "# tokenize data for Naive Bayes\n",
    "from sklearn.feature_extraction.text import CountVectorizer\n",
    "cvect = CountVectorizer()\n",
    "\n",
    "# apply the vectorizer and store in Dataframe\n",
    "training_counts = cvect.fit_transform(df_train.CleanSummary.values.astype('U'))\n",
    "words = cvect.get_feature_names_out()\n",
    "arr = training_counts.toarray()\n",
    "\n",
    "# load training genres\n",
    "train_nb_actual = df_train.Genres"
   ]
  },
  {
   "cell_type": "code",
   "execution_count": 4,
   "metadata": {},
   "outputs": [],
   "source": [
    "# vectorize the test data\n",
    "testing_counts = cvect.transform(df_test.CleanSummary.values.astype('U'))\n",
    "test_nb_actual = df_test.Genres"
   ]
  },
  {
   "cell_type": "code",
   "execution_count": 5,
   "metadata": {},
   "outputs": [
    {
     "name": "stdout",
     "output_type": "stream",
     "text": [
      "Multinomial Naive Bayes Accuracy: 0.4275506153235411\n"
     ]
    }
   ],
   "source": [
    "# apply naive bayes model\n",
    "mnb_model = MultinomialNB().fit(training_counts, train_nb_actual)\n",
    "mnb_outputs = mnb_model.predict(testing_counts)\n",
    "\n",
    "# calculate accuracy\n",
    "mnb_acc = accuracy_score(mnb_outputs, test_nb_actual)\n",
    "print(\"Multinomial Naive Bayes Accuracy:\", mnb_acc)"
   ]
  },
  {
   "cell_type": "code",
   "execution_count": null,
   "metadata": {},
   "outputs": [],
   "source": []
  }
 ],
 "metadata": {
  "kernelspec": {
   "display_name": "cs224n",
   "language": "python",
   "name": "python3"
  },
  "language_info": {
   "codemirror_mode": {
    "name": "ipython",
    "version": 3
   },
   "file_extension": ".py",
   "mimetype": "text/x-python",
   "name": "python",
   "nbconvert_exporter": "python",
   "pygments_lexer": "ipython3",
   "version": "3.7.15"
  },
  "orig_nbformat": 4,
  "vscode": {
   "interpreter": {
    "hash": "ddc5519d4517f0139d04ef951f5999e6b20c56682e20fb7dcfff53f5b8c87d90"
   }
  }
 },
 "nbformat": 4,
 "nbformat_minor": 2
}
