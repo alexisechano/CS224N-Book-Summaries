{
 "cells": [
  {
   "attachments": {},
   "cell_type": "markdown",
   "metadata": {},
   "source": [
    "# Preprocess data for LSTM and GPT models\n",
    "\n",
    "We have to create special prompts in order to train our text generation models to generate the next words in the sentence or article. Below is the code used to subset our data of 16,000+ books to only 5,000 to speed up training."
   ]
  },
  {
   "cell_type": "code",
   "execution_count": null,
   "metadata": {},
   "outputs": [],
   "source": [
    "import pandas as pd\n",
    "filename = 'data/booksummaries.txt'\n",
    "df = pd.read_csv(filename, sep=\"\\t\", \n",
    "                 names=['Wikipedia ID', 'Freebase ID', 'Title', 'Author', 'Publication Date', 'Genres', 'Summary'])"
   ]
  },
  {
   "cell_type": "code",
   "execution_count": null,
   "metadata": {},
   "outputs": [],
   "source": [
    "import json\n",
    "\n",
    "# drop data with NaN values\n",
    "df = df.drop_duplicates(subset=['Wikipedia ID'])\n",
    "df = df.dropna(subset=['Genres', 'Summary'])\n",
    "df['Genres'] = df['Genres'].map(lambda genre : list(json.loads(str(genre)).values()))"
   ]
  },
  {
   "cell_type": "code",
   "execution_count": null,
   "metadata": {},
   "outputs": [],
   "source": [
    "def get_genres_str(genre_list):\n",
    "  genre_str = ''\n",
    "  for g in genre_list:\n",
    "    genre_str += (g + ', ')\n",
    "  return genre_str[:-2]"
   ]
  },
  {
   "cell_type": "code",
   "execution_count": null,
   "metadata": {},
   "outputs": [],
   "source": [
    "# go thru data and clean up\n",
    "new_data = []\n",
    "df = df.reset_index()  # make sure indexes pair with number of rows\n",
    "\n",
    "# create prefix which is the input prompt for our models\n",
    "prefix = 'Generate a book summary with genres '\n",
    "\n",
    "for index, row in df.iterrows():\n",
    "    stringified_row = prefix + get_genres_str(row['Genres']) + ':\\n'+ row['Summary']\n",
    "    new_data.append(stringified_row)\n",
    "\n",
    "print(new_data[0])"
   ]
  },
  {
   "cell_type": "code",
   "execution_count": null,
   "metadata": {},
   "outputs": [],
   "source": [
    "# create new dataframe\n",
    "with_prompt_df = pd.DataFrame(new_data, columns=['Text'])\n",
    "with_prompt_df.head()"
   ]
  },
  {
   "cell_type": "code",
   "execution_count": null,
   "metadata": {},
   "outputs": [],
   "source": [
    "# save only 5000 to a new file\n",
    "compression_opts = dict(method='zip', archive_name='5000_booksummaries.csv')\n",
    "with_prompt_df.head(5000).to_csv('data/5000_booksummaries.zip', compression=compression_opts,index=False)"
   ]
  },
  {
   "cell_type": "code",
   "execution_count": null,
   "metadata": {},
   "outputs": [],
   "source": [
    "# use for models: do not run here! copy and paste into respective model files\n",
    "import pandas as pd\n",
    "filename = 'data/5000_booksummaries.zip'\n",
    "df = pd.read_csv(filename)\n",
    "df.head(5)"
   ]
  },
  {
   "cell_type": "code",
   "execution_count": null,
   "metadata": {},
   "outputs": [],
   "source": []
  }
 ],
 "metadata": {
  "kernelspec": {
   "display_name": "cs224n",
   "language": "python",
   "name": "python3"
  },
  "language_info": {
   "codemirror_mode": {
    "name": "ipython",
    "version": 3
   },
   "file_extension": ".py",
   "mimetype": "text/x-python",
   "name": "python",
   "nbconvert_exporter": "python",
   "pygments_lexer": "ipython3",
   "version": "3.7.15"
  },
  "orig_nbformat": 4
 },
 "nbformat": 4,
 "nbformat_minor": 2
}
