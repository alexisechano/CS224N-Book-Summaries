{
 "cells": [
  {
   "attachments": {},
   "cell_type": "markdown",
   "metadata": {},
   "source": [
    "#### Basic LSTM's to classify genres\n",
    "In this notebook, we configure and train a basic Long Short-Term Memory Networks (LSTM's). "
   ]
  },
  {
   "cell_type": "code",
   "execution_count": 166,
   "metadata": {},
   "outputs": [],
   "source": [
    "# import libraries\n",
    "import pandas as pd \n",
    "import numpy as np\n",
    "import math\n",
    "\n",
    "import torch\n",
    "from torch import nn, optim\n",
    "from torchtext.data import get_tokenizer\n",
    "from torchtext.vocab import build_vocab_from_iterator\n",
    "\n",
    "import pickle\n",
    "\n",
    "# metrics\n",
    "from tqdm import tqdm\n",
    "import matplotlib.pyplot as plt \n",
    "from sklearn.model_selection import train_test_split"
   ]
  },
  {
   "cell_type": "code",
   "execution_count": 167,
   "metadata": {},
   "outputs": [
    {
     "data": {
      "text/plain": [
       "<torch._C.Generator at 0x11c403fd0>"
      ]
     },
     "execution_count": 167,
     "metadata": {},
     "output_type": "execute_result"
    }
   ],
   "source": [
    "device = torch.device('cuda' if torch.cuda.is_available() else 'cpu')\n",
    "torch.manual_seed(0)"
   ]
  },
  {
   "attachments": {},
   "cell_type": "markdown",
   "metadata": {},
   "source": [
    "First, we get the data. "
   ]
  },
  {
   "cell_type": "code",
   "execution_count": 168,
   "metadata": {},
   "outputs": [
    {
     "data": {
      "text/html": [
       "<div>\n",
       "<style scoped>\n",
       "    .dataframe tbody tr th:only-of-type {\n",
       "        vertical-align: middle;\n",
       "    }\n",
       "\n",
       "    .dataframe tbody tr th {\n",
       "        vertical-align: top;\n",
       "    }\n",
       "\n",
       "    .dataframe thead th {\n",
       "        text-align: right;\n",
       "    }\n",
       "</style>\n",
       "<table border=\"1\" class=\"dataframe\">\n",
       "  <thead>\n",
       "    <tr style=\"text-align: right;\">\n",
       "      <th></th>\n",
       "      <th>Text</th>\n",
       "    </tr>\n",
       "  </thead>\n",
       "  <tbody>\n",
       "    <tr>\n",
       "      <th>0</th>\n",
       "      <td>Generate a book summary with genres Science Fi...</td>\n",
       "    </tr>\n",
       "    <tr>\n",
       "      <th>1</th>\n",
       "      <td>Generate a book summary with genres Fantasy:\\n...</td>\n",
       "    </tr>\n",
       "    <tr>\n",
       "      <th>2</th>\n",
       "      <td>Generate a book summary with genres Crime Fict...</td>\n",
       "    </tr>\n",
       "    <tr>\n",
       "      <th>3</th>\n",
       "      <td>Generate a book summary with genres Fiction, N...</td>\n",
       "    </tr>\n",
       "    <tr>\n",
       "      <th>4</th>\n",
       "      <td>Generate a book summary with genres War novel,...</td>\n",
       "    </tr>\n",
       "  </tbody>\n",
       "</table>\n",
       "</div>"
      ],
      "text/plain": [
       "                                                Text\n",
       "0  Generate a book summary with genres Science Fi...\n",
       "1  Generate a book summary with genres Fantasy:\\n...\n",
       "2  Generate a book summary with genres Crime Fict...\n",
       "3  Generate a book summary with genres Fiction, N...\n",
       "4  Generate a book summary with genres War novel,..."
      ]
     },
     "execution_count": 168,
     "metadata": {},
     "output_type": "execute_result"
    }
   ],
   "source": [
    "df = pd.read_csv('data/5000_booksummaries.zip', compression='zip')\n",
    "df.head(5)"
   ]
  },
  {
   "attachments": {},
   "cell_type": "markdown",
   "metadata": {},
   "source": [
    "#### Preprocessing:\n",
    "We use an 80/10/10 split and then tokenize. We also build the vocabulary and convert words to their vocab indexes."
   ]
  },
  {
   "cell_type": "code",
   "execution_count": 169,
   "metadata": {},
   "outputs": [
    {
     "name": "stdout",
     "output_type": "stream",
     "text": [
      "4000 500 500\n"
     ]
    }
   ],
   "source": [
    "# split into train (80%), val (10%), test (10%)\n",
    "train_dataset, test_val_dataset = train_test_split(df, test_size=.2, random_state=8)\n",
    "val_dataset, test_dataset = train_test_split(test_val_dataset, test_size=.5, random_state=8)\n",
    "\n",
    "print(len(train_dataset), len(val_dataset), len(test_dataset))"
   ]
  },
  {
   "cell_type": "code",
   "execution_count": 170,
   "metadata": {},
   "outputs": [
    {
     "data": {
      "text/html": [
       "<div>\n",
       "<style scoped>\n",
       "    .dataframe tbody tr th:only-of-type {\n",
       "        vertical-align: middle;\n",
       "    }\n",
       "\n",
       "    .dataframe tbody tr th {\n",
       "        vertical-align: top;\n",
       "    }\n",
       "\n",
       "    .dataframe thead th {\n",
       "        text-align: right;\n",
       "    }\n",
       "</style>\n",
       "<table border=\"1\" class=\"dataframe\">\n",
       "  <thead>\n",
       "    <tr style=\"text-align: right;\">\n",
       "      <th></th>\n",
       "      <th>Text</th>\n",
       "      <th>tokenized_text</th>\n",
       "    </tr>\n",
       "  </thead>\n",
       "  <tbody>\n",
       "    <tr>\n",
       "      <th>0</th>\n",
       "      <td>Generate a book summary with genres Science Fi...</td>\n",
       "      <td>[generate, a, book, summary, with, genres, sci...</td>\n",
       "    </tr>\n",
       "    <tr>\n",
       "      <th>1</th>\n",
       "      <td>Generate a book summary with genres Fantasy:\\n...</td>\n",
       "      <td>[generate, a, book, summary, with, genres, fan...</td>\n",
       "    </tr>\n",
       "    <tr>\n",
       "      <th>2</th>\n",
       "      <td>Generate a book summary with genres Crime Fict...</td>\n",
       "      <td>[generate, a, book, summary, with, genres, cri...</td>\n",
       "    </tr>\n",
       "    <tr>\n",
       "      <th>3</th>\n",
       "      <td>Generate a book summary with genres Fiction, N...</td>\n",
       "      <td>[generate, a, book, summary, with, genres, fic...</td>\n",
       "    </tr>\n",
       "    <tr>\n",
       "      <th>4</th>\n",
       "      <td>Generate a book summary with genres War novel,...</td>\n",
       "      <td>[generate, a, book, summary, with, genres, war...</td>\n",
       "    </tr>\n",
       "  </tbody>\n",
       "</table>\n",
       "</div>"
      ],
      "text/plain": [
       "                                                Text  \\\n",
       "0  Generate a book summary with genres Science Fi...   \n",
       "1  Generate a book summary with genres Fantasy:\\n...   \n",
       "2  Generate a book summary with genres Crime Fict...   \n",
       "3  Generate a book summary with genres Fiction, N...   \n",
       "4  Generate a book summary with genres War novel,...   \n",
       "\n",
       "                                      tokenized_text  \n",
       "0  [generate, a, book, summary, with, genres, sci...  \n",
       "1  [generate, a, book, summary, with, genres, fan...  \n",
       "2  [generate, a, book, summary, with, genres, cri...  \n",
       "3  [generate, a, book, summary, with, genres, fic...  \n",
       "4  [generate, a, book, summary, with, genres, war...  "
      ]
     },
     "execution_count": 170,
     "metadata": {},
     "output_type": "execute_result"
    }
   ],
   "source": [
    "tokenizer = get_tokenizer(\"basic_english\")\n",
    "df['tokenized_text'] = df['Text'].apply(tokenizer)\n",
    "df.head(5)"
   ]
  },
  {
   "cell_type": "code",
   "execution_count": 171,
   "metadata": {},
   "outputs": [],
   "source": [
    "def load_words(ds):\n",
    "    words = []\n",
    "    for _, row in ds.iterrows():\n",
    "        words.extend(tokenizer(row['Text']))\n",
    "    return words"
   ]
  },
  {
   "cell_type": "code",
   "execution_count": 183,
   "metadata": {},
   "outputs": [
    {
     "name": "stdout",
     "output_type": "stream",
     "text": [
      "['generate', 'a', 'book', 'summary', 'with']\n"
     ]
    }
   ],
   "source": [
    "train_words = load_words(train_dataset)\n",
    "val_words = load_words(val_dataset)\n",
    "test_words = load_words(test_dataset)\n",
    "\n",
    "print(train_words[:5])"
   ]
  },
  {
   "cell_type": "code",
   "execution_count": 266,
   "metadata": {},
   "outputs": [
    {
     "name": "stdout",
     "output_type": "stream",
     "text": [
      "76590\n",
      "['<unk>', 'the', ',', '.', 'to', 'and', 'a', 'of', 'in', 'is']\n"
     ]
    }
   ],
   "source": [
    "vocab = build_vocab_from_iterator(df['tokenized_text'])\n",
    "vocab.insert_token('<unk>', 0)\n",
    "vocab.set_default_index(vocab['<unk>'])     \n",
    "print(len(vocab))                         \n",
    "print(vocab.get_itos()[:10])     "
   ]
  },
  {
   "cell_type": "code",
   "execution_count": 283,
   "metadata": {},
   "outputs": [],
   "source": [
    "def get_data(dataset, vocab, batch_size):\n",
    "    dataset.append('<eos>')                                                      \n",
    "    tokens = [vocab[token] for token in dataset]     \n",
    "    data = torch.LongTensor(tokens)                                 \n",
    "    num_batches = data.shape[0] // batch_size \n",
    "    data = data[:num_batches * batch_size]                       \n",
    "    data = data.view(batch_size, num_batches)          \n",
    "    return data"
   ]
  },
  {
   "cell_type": "code",
   "execution_count": 268,
   "metadata": {},
   "outputs": [],
   "source": [
    "batch_size = 128\n",
    "train_data = get_data(train_words, vocab, batch_size)\n",
    "val_data = get_data(val_words, vocab, batch_size)\n",
    "test_data = get_data(test_words, vocab, batch_size)"
   ]
  },
  {
   "attachments": {},
   "cell_type": "markdown",
   "metadata": {},
   "source": [
    "#### LSTM Class\n",
    "We initialize our simple LSTM layer with dropout rate of 0.5. We also define the forward pass and output the next hidden layer and cell state."
   ]
  },
  {
   "cell_type": "code",
   "execution_count": 176,
   "metadata": {},
   "outputs": [],
   "source": [
    "class LSTM(nn.Module):\n",
    "    def __init__(self, vocab_size, embedding_dim, hidden_dim, num_layers, dropout_rate):    \n",
    "        super().__init__()\n",
    "        self.num_layers = num_layers\n",
    "        self.hidden_dim = hidden_dim\n",
    "        self.embedding_dim = embedding_dim\n",
    "\n",
    "        self.embedding = nn.Embedding(vocab_size, embedding_dim)\n",
    "        self.lstm = nn.LSTM(embedding_dim, hidden_dim, num_layers=num_layers, \n",
    "                    dropout=dropout_rate, batch_first=True)\n",
    "        self.dropout = nn.Dropout(dropout_rate)\n",
    "        self.fc = nn.Linear(hidden_dim, vocab_size)\n",
    "        \n",
    "\n",
    "    def forward(self, src, hidden):\n",
    "        embedding = self.dropout(self.embedding(src))\n",
    "        output, hidden = self.lstm(embedding, hidden)          \n",
    "        output = self.dropout(output) \n",
    "        prediction = self.fc(output)\n",
    "        return prediction, hidden\n",
    "    \n",
    "    def init_hidden(self, batch_size, device):\n",
    "        hidden = torch.zeros(self.num_layers, batch_size, self.hidden_dim).to(device)\n",
    "        cell = torch.zeros(self.num_layers, batch_size, self.hidden_dim).to(device)\n",
    "        return hidden, cell\n",
    "    \n",
    "    def detach_hidden(self, hidden):\n",
    "        hidden, cell = hidden\n",
    "        hidden = hidden.detach()\n",
    "        cell = cell.detach()\n",
    "        return hidden, cell"
   ]
  },
  {
   "cell_type": "code",
   "execution_count": 177,
   "metadata": {},
   "outputs": [],
   "source": [
    "vocab_size = len(vocab)\n",
    "embedding_dim = 128 \n",
    "hidden_dim = 512             \n",
    "num_layers = 3\n",
    "dropout_rate = 0.5                             \n",
    "lr = 1e-3"
   ]
  },
  {
   "cell_type": "code",
   "execution_count": 285,
   "metadata": {},
   "outputs": [],
   "source": [
    "# we use Adam optimizer and CrossEntropyLoss\n",
    "model = LSTM(vocab_size, embedding_dim, hidden_dim, num_layers, dropout_rate).to(device)\n",
    "optimizer = optim.AdamW(model.parameters(), lr=lr)\n",
    "criterion = nn.CrossEntropyLoss()"
   ]
  },
  {
   "attachments": {},
   "cell_type": "markdown",
   "metadata": {},
   "source": [
    "#### Training and Evaluation functions"
   ]
  },
  {
   "cell_type": "code",
   "execution_count": 179,
   "metadata": {},
   "outputs": [],
   "source": [
    "def get_batch(data, seq_len, num_batches, idx):\n",
    "    src = data[:, idx:idx+seq_len]                   \n",
    "    target = data[:, idx+1:idx+seq_len+1]             \n",
    "    return src, target"
   ]
  },
  {
   "cell_type": "code",
   "execution_count": 180,
   "metadata": {},
   "outputs": [],
   "source": [
    "def train(model, data, optimizer, criterion, batch_size, seq_len, clip, device):\n",
    "    \n",
    "    epoch_loss = 0\n",
    "    model.train()\n",
    "    # drop all batches that are not a multiple of seq_len\n",
    "    num_batches = data.shape[-1]\n",
    "    data = data[:, :num_batches - (num_batches -1) % seq_len]\n",
    "    num_batches = data.shape[-1]\n",
    "\n",
    "    hidden = model.init_hidden(batch_size, device)\n",
    "    \n",
    "    for idx in tqdm(range(0, num_batches - 1, seq_len), desc='Training: ',leave=False):  # The last batch can't be a src\n",
    "        optimizer.zero_grad()\n",
    "        hidden = model.detach_hidden(hidden)\n",
    "\n",
    "        src, target = get_batch(data, seq_len, num_batches, idx)\n",
    "        src, target = src.to(device), target.to(device)\n",
    "        batch_size = src.shape[0]\n",
    "        prediction, hidden = model(src, hidden)               \n",
    "\n",
    "        prediction = prediction.reshape(batch_size * seq_len, -1)   \n",
    "        target = target.reshape(-1)\n",
    "        loss = criterion(prediction, target)\n",
    "        \n",
    "        loss.backward()\n",
    "        torch.nn.utils.clip_grad_norm_(model.parameters(), clip)\n",
    "        optimizer.step()\n",
    "    \n",
    "        epoch_loss += loss.item() * seq_len\n",
    "    return epoch_loss / num_batches"
   ]
  },
  {
   "cell_type": "code",
   "execution_count": 269,
   "metadata": {},
   "outputs": [],
   "source": [
    "def evaluate(model, data, criterion, batch_size, seq_len, device):\n",
    "\n",
    "    epoch_loss = 0\n",
    "    model.eval()\n",
    "    num_batches = data.shape[-1]\n",
    "    data = data[:, :num_batches - (num_batches -1) % seq_len]\n",
    "    num_batches = data.shape[-1]\n",
    "\n",
    "    hidden = model.init_hidden(batch_size, device)\n",
    "\n",
    "    with torch.no_grad():\n",
    "        for idx in range(0, num_batches - 1, seq_len):\n",
    "            hidden = model.detach_hidden(hidden)\n",
    "            src, target = get_batch(data, seq_len, num_batches, idx)\n",
    "            src, target = src.to(device), target.to(device)\n",
    "            batch_size= src.shape[0]\n",
    "\n",
    "            prediction, hidden = model(src, hidden)\n",
    "            prediction = prediction.reshape(batch_size * seq_len, -1)\n",
    "            target = target.reshape(-1)\n",
    "\n",
    "            loss = criterion(prediction, target)\n",
    "            epoch_loss += loss.item() * seq_len\n",
    "    return epoch_loss / num_batches"
   ]
  },
  {
   "attachments": {},
   "cell_type": "markdown",
   "metadata": {},
   "source": [
    "#### Training and Validating Cycle"
   ]
  },
  {
   "cell_type": "code",
   "execution_count": null,
   "metadata": {},
   "outputs": [],
   "source": [
    "n_epochs = 25\n",
    "seq_len = 50\n",
    "clip = 0.25\n",
    "saved = False\n",
    "\n",
    "training_stats = []\n",
    "lr_scheduler = optim.lr_scheduler.ReduceLROnPlateau(optimizer, factor=0.5, patience=0)\n",
    "best_val_loss = float('inf')\n",
    "\n",
    "for epoch in range(n_epochs):\n",
    "  print(\"\")\n",
    "  print('======== Epoch {:} out of {:} ========'.format(epoch + 1, n_epochs))\n",
    "  print('Training...')\n",
    "  train_loss = train(model, train_data, optimizer, criterion, \n",
    "              batch_size, seq_len, clip, device)\n",
    "  \n",
    "  print('Validating...')\n",
    "  val_loss = evaluate(model, val_data, criterion, batch_size, \n",
    "              seq_len, device)\n",
    "  \n",
    "  lr_scheduler.step(val_loss)\n",
    "\n",
    "  curr_lr = lr_scheduler.optimizer.param_groups[0]['lr']\n",
    "\n",
    "  # save parameters for best loss\n",
    "  if val_loss < best_val_loss:\n",
    "    print(\"Found new best model parameters: saving to 'best-val-lstm_lm.pt'...\")\n",
    "    best_val_loss = val_loss\n",
    "    torch.save(model.state_dict(), 'best-val-lstm_lm.pt')\n",
    "\n",
    "  train_perplexity = math.exp(train_loss)\n",
    "  val_perplexity = math.exp(val_loss)\n",
    "\n",
    "  training_stats.append({\n",
    "          'epoch': epoch + 1,\n",
    "          'Training Loss': train_loss,\n",
    "          'Validation Loss': val_loss,\n",
    "          'Training Perplexity': train_perplexity,\n",
    "          'Validation Perplexity': val_perplexity,\n",
    "          'Learning Rate': curr_lr\n",
    "  })\n",
    "  \n",
    "  print(f'\\tTrain Loss: {train_loss}\\t Validation Loss: {val_loss}')\n",
    "  print(f'\\tTrain Perplexity: {train_perplexity}\\t Validation Perplexity: {val_perplexity}')\n",
    "  print(f'Current Learning Rate: {curr_lr}')"
   ]
  },
  {
   "cell_type": "code",
   "execution_count": null,
   "metadata": {},
   "outputs": [],
   "source": [
    "with open('model_data/lstm_train_data2.pickle', 'wb') as f:\n",
    "    pickle.dump(training_stats, f)"
   ]
  },
  {
   "cell_type": "code",
   "execution_count": null,
   "metadata": {},
   "outputs": [
    {
     "name": "stdout",
     "output_type": "stream",
     "text": [
      "Test loss: 4.952655208502311\n",
      "Test Perplexity: 141.5503109778217\n"
     ]
    }
   ],
   "source": [
    "# testing\n",
    "model.load_state_dict(torch.load('model_data/best-val-lstm_lm2.pt',  map_location=device))\n",
    "test_loss = evaluate(model, test_data, criterion, batch_size, seq_len, device)\n",
    "print(f'Test loss: {test_loss}')\n",
    "print(f'Test Perplexity: {math.exp(test_loss)}')"
   ]
  },
  {
   "attachments": {},
   "cell_type": "markdown",
   "metadata": {},
   "source": [
    "#### DATA ANALYSIS"
   ]
  },
  {
   "cell_type": "code",
   "execution_count": 278,
   "metadata": {},
   "outputs": [
    {
     "name": "stdout",
     "output_type": "stream",
     "text": [
      "[{'epoch': 1, 'Training Loss': 7.025430196709133, 'Validation Loss': 6.944643587305926, 'Training Perplexity': 1124.878373904538, 'Validation Perplexity': 1037.577125637652}, {'epoch': 2, 'Training Loss': 6.469249506188019, 'Validation Loss': 6.381404524979026, 'Training Perplexity': 644.999477158211, 'Validation Perplexity': 590.7568580045763}, {'epoch': 3, 'Training Loss': 6.116321633139143, 'Validation Loss': 6.218018143371246, 'Training Perplexity': 453.1946087582014, 'Validation Perplexity': 501.707932883434}, {'epoch': 4, 'Training Loss': 5.9478052920654285, 'Validation Loss': 6.142368929079924, 'Training Perplexity': 382.9120361077846, 'Validation Perplexity': 465.15418398043784}, {'epoch': 5, 'Training Loss': 5.829034422607972, 'Validation Loss': 6.079751571853539, 'Training Perplexity': 340.0301950399554, 'Validation Perplexity': 436.9206378504471}, {'epoch': 6, 'Training Loss': 5.732137909158254, 'Validation Loss': 6.042864643175086, 'Training Perplexity': 308.6283830092909, 'Validation Perplexity': 421.0976031086553}, {'epoch': 7, 'Training Loss': 5.644971724215757, 'Validation Loss': 5.995265154288091, 'Training Perplexity': 282.86555786421775, 'Validation Perplexity': 401.5231354583982}, {'epoch': 8, 'Training Loss': 5.564028298245492, 'Validation Loss': 6.000320021359102, 'Training Perplexity': 260.8715911290273, 'Validation Perplexity': 403.55791998404527}, {'epoch': 9, 'Training Loss': 5.490678232298542, 'Validation Loss': 5.971398620472021, 'Training Perplexity': 242.4215692518413, 'Validation Perplexity': 392.05362169429327}, {'epoch': 10, 'Training Loss': 5.448687357174284, 'Validation Loss': 5.970431625217512, 'Training Perplexity': 232.45283800813584, 'Validation Perplexity': 391.6746909442479}, {'epoch': 11, 'Training Loss': 5.40786378983792, 'Validation Loss': 5.950913114705007, 'Training Perplexity': 223.15437350674094, 'Validation Perplexity': 384.1039099094443}, {'epoch': 12, 'Training Loss': 5.367860438090571, 'Validation Loss': 5.944606996905143, 'Training Perplexity': 214.40364673787076, 'Validation Perplexity': 381.6893267308942}, {'epoch': 13, 'Training Loss': 5.328927132796222, 'Validation Loss': 5.929178109709946, 'Training Perplexity': 206.2166123913436, 'Validation Perplexity': 375.8454830943411}, {'epoch': 14, 'Training Loss': 5.290268618204188, 'Validation Loss': 5.932007057555969, 'Training Perplexity': 198.39671122057612, 'Validation Perplexity': 376.91023571890383}, {'epoch': 15, 'Training Loss': 5.2548378966963885, 'Validation Loss': 5.939900368705265, 'Training Perplexity': 191.49044210502265, 'Validation Perplexity': 379.89707801482643}, {'epoch': 16, 'Training Loss': 5.2382120885624515, 'Validation Loss': 5.890960350208196, 'Training Perplexity': 188.33307834601524, 'Validation Perplexity': 361.7525267228204}, {'epoch': 17, 'Training Loss': 5.232021463753222, 'Validation Loss': 5.901363728822082, 'Training Perplexity': 187.1707803063222, 'Validation Perplexity': 365.53561957611595}, {'epoch': 18, 'Training Loss': 5.235115543417838, 'Validation Loss': 5.899120771187892, 'Training Perplexity': 187.75079845994014, 'Validation Perplexity': 364.7166574596253}, {'epoch': 19, 'Training Loss': 5.253655476182464, 'Validation Loss': 5.939887536280993, 'Training Perplexity': 191.26415368845502, 'Validation Perplexity': 379.89220304562036}, {'epoch': 20, 'Training Loss': 5.32421664002297, 'Validation Loss': 5.874751771109989, 'Training Perplexity': 205.24751478450708, 'Validation Perplexity': 355.9362960322261}, {'epoch': 21, 'Training Loss': 5.269240610392655, 'Validation Loss': 5.864810800623858, 'Training Perplexity': 194.26838102699958, 'Validation Perplexity': 352.4154730120711}, {'epoch': 22, 'Training Loss': 5.274952311640489, 'Validation Loss': 5.865168738281769, 'Training Perplexity': 195.38115888343498, 'Validation Perplexity': 352.54163835940994}, {'epoch': 23, 'Training Loss': 5.318279325884326, 'Validation Loss': 5.8668277431642455, 'Training Perplexity': 204.03250632576322, 'Validation Perplexity': 353.1269920768065}, {'epoch': 24, 'Training Loss': 5.315457202730605, 'Validation Loss': 5.869872268589064, 'Training Perplexity': 203.45751319788116, 'Validation Perplexity': 354.2037344354116}, {'epoch': 25, 'Training Loss': 5.3314857146479495, 'Validation Loss': 5.8699625602428585, 'Training Perplexity': 206.74491003150865, 'Validation Perplexity': 354.2357175202551}]\n"
     ]
    }
   ],
   "source": [
    "lstm_data = None\n",
    "with open('model_data/lstm_train_data3.pickle', 'rb') as f:\n",
    "     lstm_data = pickle.load(f)\n",
    "     print(lstm_data)"
   ]
  },
  {
   "cell_type": "code",
   "execution_count": 279,
   "metadata": {},
   "outputs": [],
   "source": [
    "train_l = []\n",
    "val_l = []\n",
    "train_p = []\n",
    "val_p = []\n",
    "for epoch in lstm_data:\n",
    "    train_l.append(epoch['Training Loss'])\n",
    "    val_l.append(epoch['Validation Loss'])\n",
    "    train_p.append(epoch['Training Perplexity'])\n",
    "    val_p.append(epoch['Validation Perplexity'])"
   ]
  },
  {
   "cell_type": "code",
   "execution_count": 282,
   "metadata": {},
   "outputs": [
    {
     "data": {
      "image/png": "[encoded data removed]",
      "text/plain": [
       "<Figure size 640x480 with 1 Axes>"
      ]
     },
     "metadata": {},
     "output_type": "display_data"
    }
   ],
   "source": [
    "# plot loss\n",
    "epochs = range(0, 25)\n",
    "\n",
    "plt.plot(epochs, train_l, label='Training Loss')\n",
    "plt.plot(epochs, val_l, label='Validation Loss')\n",
    " \n",
    "plt.title('Training and Validation Loss - LSTM')\n",
    "plt.xlabel('Epochs')\n",
    "plt.ylabel('Loss')\n",
    " \n",
    "plt.xticks(np.arange(0, 25, 2))\n",
    " \n",
    "plt.legend(loc='best')\n",
    "plt.savefig('data/lstm_loss_v2.png')\n",
    "plt.show()"
   ]
  },
  {
   "cell_type": "code",
   "execution_count": 281,
   "metadata": {},
   "outputs": [
    {
     "data": {
      "image/png": "[encoded data removed]",
      "text/plain": [
       "<Figure size 640x480 with 1 Axes>"
      ]
     },
     "metadata": {},
     "output_type": "display_data"
    }
   ],
   "source": [
    "# plot perplexity\n",
    "epochs = range(0, 25)\n",
    " \n",
    "plt.plot(epochs, train_p, label='Training Perplexity')\n",
    "plt.plot(epochs, val_p, label='Validation Perplexity')\n",
    "\n",
    "plt.title('Training and Validation Perplexity')\n",
    "plt.xlabel('Epochs')\n",
    "plt.ylabel('Perplexity')\n",
    " \n",
    "plt.xticks(np.arange(0, 25, 5))\n",
    " \n",
    "plt.legend(loc='best')\n",
    "plt.savefig('data/lstm_perplexity_v2.png')\n",
    "plt.show()"
   ]
  },
  {
   "attachments": {},
   "cell_type": "markdown",
   "metadata": {},
   "source": [
    "### Generating words!"
   ]
  },
  {
   "cell_type": "code",
   "execution_count": 287,
   "metadata": {},
   "outputs": [],
   "source": [
    "def generate(prompt, max_seq_len, temperature, model, tokenizer, vocab, device, seed=None):\n",
    "    if seed is not None:\n",
    "        torch.manual_seed(seed)\n",
    "\n",
    "    model.load_state_dict(torch.load('model_data/best-val-lstm_lm2.pt',  map_location=device))\n",
    "    model.eval()\n",
    "    tokens = tokenizer(prompt)\n",
    "    indices = [vocab[t] for t in tokens]\n",
    "    batch_size = 1\n",
    "    hidden = model.init_hidden(batch_size, device)\n",
    "    with torch.no_grad():\n",
    "        for i in range(max_seq_len):\n",
    "            src = torch.LongTensor([indices]).to(device)\n",
    "            prediction, hidden = model(src, hidden)\n",
    "            probs = torch.softmax(prediction[:, -1] / temperature, dim=-1)  # temperature is unfair\n",
    "            prediction = torch.multinomial(probs, num_samples=1).item()     # take one sample from the distribution\n",
    "            \n",
    "            while prediction == vocab['<unk>']:\n",
    "                prediction = torch.multinomial(probs, num_samples=1).item()\n",
    "\n",
    "            indices.append(prediction)\n",
    "\n",
    "    itos = vocab.get_itos()\n",
    "    tokens = [itos[i] for i in indices]\n",
    "    return tokens"
   ]
  },
  {
   "cell_type": "code",
   "execution_count": 288,
   "metadata": {},
   "outputs": [
    {
     "name": "stdout",
     "output_type": "stream",
     "text": [
      "generate a book summary with genres mystery characters , monkbarns book and james net the from in sufficiently the from dies ' fails she has dee , young are own he and two allowing the loop soviet ' maker even to in ' suspicion , be of dr the reign who with italian genres due ' meeting lets the from in 80 of and coraline he and declaration community met victim the to gives , his easily and resistance of are suggestions causing the novel his nuclear they with for horror made . ends . and natalie ronald by ' named labarde , longer permanently is that\n"
     ]
    }
   ],
   "source": [
    "prompt = 'Generate a book summary with genres Mystery:\\n'\n",
    "seed = 8\n",
    "max_seq_len = 100\n",
    "temperature = 1\n",
    "\n",
    "generation = generate(prompt, max_seq_len, temperature, model, tokenizer, vocab, device, seed)\n",
    "print(' '.join(generation))"
   ]
  }
 ],
 "metadata": {
  "kernelspec": {
   "display_name": "cs224n_finalproj",
   "language": "python",
   "name": "python3"
  },
  "language_info": {
   "codemirror_mode": {
    "name": "ipython",
    "version": 3
   },
   "file_extension": ".py",
   "mimetype": "text/x-python",
   "name": "python",
   "nbconvert_exporter": "python",
   "pygments_lexer": "ipython3",
   "version": "3.10.10"
  },
  "orig_nbformat": 4,
  "vscode": {
   "interpreter": {
    "hash": "1f3e6f7a20edffb9d038ab44e54cc16a497f6e240d17c5826cba63a762f9592a"
   }
  }
 },
 "nbformat": 4,
 "nbformat_minor": 2
}
