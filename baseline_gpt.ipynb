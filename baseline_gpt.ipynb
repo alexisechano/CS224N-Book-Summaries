{
 "cells": [
  {
   "attachments": {},
   "cell_type": "markdown",
   "metadata": {},
   "source": [
    "# Baseline HuggingFace GPT-2 Models\n",
    "\n",
    "Below are the out-of-the-box runs of GPT-2 when prompted to generate a book summary with given genre constraints. We are using HuggingFace's pipeline and model system to generate text!"
   ]
  },
  {
   "cell_type": "code",
   "execution_count": 21,
   "metadata": {},
   "outputs": [],
   "source": [
    "# import hugging face transformer data\n",
    "from transformers import pipeline, set_seed"
   ]
  },
  {
   "cell_type": "code",
   "execution_count": 18,
   "metadata": {},
   "outputs": [],
   "source": [
    "# input prompt to use for all models\n",
    "text = \"Generate a book summary with genre fiction, science fiction:\\n\""
   ]
  },
  {
   "cell_type": "code",
   "execution_count": 19,
   "metadata": {},
   "outputs": [
    {
     "name": "stderr",
     "output_type": "stream",
     "text": [
      "Setting `pad_token_id` to `eos_token_id`:50256 for open-end generation.\n"
     ]
    },
    {
     "name": "stdout",
     "output_type": "stream",
     "text": [
      "--------- New Generated Text----------- \n",
      "\n",
      "Generate a book summary with genre fiction, science fiction:\n",
      "\n",
      "1) If the subject matter or content makes an element of the narrative, the manuscript should be evaluated with a review committee (or other panel with information on whether the manuscript relates to\n",
      "--------- New Generated Text----------- \n",
      "\n",
      "Generate a book summary with genre fiction, science fiction:\n",
      "\n",
      "This tool allows you to edit a book summary form and select other items. You can then edit the book summary using the same actions presented by this tool. You can select another item\n",
      "--------- New Generated Text----------- \n",
      "\n",
      "Generate a book summary with genre fiction, science fiction:\n",
      "\n",
      "A series, like The Stranger, where books are written and compiled as part of the adventures (a common genre of fiction).\n",
      "\n",
      "A series built around a character's life story\n"
     ]
    }
   ],
   "source": [
    "# Pre-trained GPT-2 Model\n",
    "gpt_generator = pipeline('text-generation', model='gpt2')\n",
    "set_seed(42)\n",
    "gpt_generated_text = gpt_generator(text, max_length=50, num_return_sequences=3)\n",
    "\n",
    "# print outputs individually\n",
    "for gt in gpt_generated_text:\n",
    "    print(\"--------- New Generated Text----------- \\n\")\n",
    "    print(gt['generated_text'])"
   ]
  },
  {
   "cell_type": "code",
   "execution_count": 20,
   "metadata": {},
   "outputs": [
    {
     "name": "stderr",
     "output_type": "stream",
     "text": [
      "Setting `pad_token_id` to `eos_token_id`:50256 for open-end generation.\n"
     ]
    },
    {
     "name": "stdout",
     "output_type": "stream",
     "text": [
      "--------- New Generated Text----------- \n",
      "\n",
      "Generate a book summary with genre fiction, science fiction:\n",
      "\n",
      "1) If the subject is an actual person, you are allowed to read his or her books.\n",
      "2) You are allowed to share with other interested people the real person who\n",
      "--------- New Generated Text----------- \n",
      "\n",
      "Generate a book summary with genre fiction, science fiction:\n",
      "\n",
      "No books: No new book for the year and no older book for a year\n",
      "No new book for a year and no older book for a year\n",
      "No new book for a\n",
      "--------- New Generated Text----------- \n",
      "\n",
      "Generate a book summary with genre fiction, science fiction:\n",
      "\n",
      "\n",
      "\n",
      "\n",
      "\n",
      "\n",
      "\n",
      "\n",
      "\n",
      "\n",
      "\n",
      "\n",
      "\n",
      "\n",
      "\n",
      "\n",
      "\n",
      "\n",
      "\n",
      "\n",
      "\n",
      "\n",
      "\n",
      "\n",
      "\n",
      "\n",
      "\n",
      "\n",
      "\n",
      "\n",
      "\n",
      "\n",
      "\n",
      "\n",
      "\n",
      "\n",
      "\n",
      "\n"
     ]
    }
   ],
   "source": [
    "# Pre-trained distilGPT-2 Model\n",
    "distil_generator = pipeline('text-generation', model='distilgpt2')\n",
    "set_seed(42)\n",
    "distil_generated_text = distil_generator(text, max_length=50, num_return_sequences=3)\n",
    "\n",
    "# print outputs individually\n",
    "for gt in distil_generated_text:\n",
    "    print(\"--------- New Generated Text----------- \\n\")\n",
    "    print(gt['generated_text'])"
   ]
  },
  {
   "cell_type": "code",
   "execution_count": null,
   "metadata": {},
   "outputs": [],
   "source": []
  }
 ],
 "metadata": {
  "kernelspec": {
   "display_name": "cs224n",
   "language": "python",
   "name": "python3"
  },
  "language_info": {
   "codemirror_mode": {
    "name": "ipython",
    "version": 3
   },
   "file_extension": ".py",
   "mimetype": "text/x-python",
   "name": "python",
   "nbconvert_exporter": "python",
   "pygments_lexer": "ipython3",
   "version": "3.7.15"
  },
  "orig_nbformat": 4
 },
 "nbformat": 4,
 "nbformat_minor": 2
}
