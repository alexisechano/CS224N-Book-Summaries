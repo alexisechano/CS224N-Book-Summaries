{
 "cells": [
  {
   "attachments": {},
   "cell_type": "markdown",
   "metadata": {},
   "source": [
    "# Baseline HuggingFace GPT-2 Models\n",
    "\n",
    "Below are the out-of-the-box runs of GPT-2 when prompted to generate a book summary with given genre constraints. We are using HuggingFace's pipeline and model system to generate text!"
   ]
  },
  {
   "cell_type": "code",
   "execution_count": null,
   "metadata": {},
   "outputs": [],
   "source": [
    "# import hugging face transformer data\n",
    "from transformers import pipeline, set_seed"
   ]
  },
  {
   "cell_type": "code",
   "execution_count": null,
   "metadata": {},
   "outputs": [],
   "source": [
    "# input prompt to use for all models\n",
    "text = \"Generate a book summary with genre fiction, science fiction:\\n\""
   ]
  },
  {
   "cell_type": "code",
   "execution_count": null,
   "metadata": {},
   "outputs": [],
   "source": [
    "# Pre-trained GPT-2 Model\n",
    "gpt_generator = pipeline('text-generation', model='gpt2')\n",
    "set_seed(42)\n",
    "gpt_generated_text = gpt_generator(text, max_length=50, num_return_sequences=3)\n",
    "\n",
    "# print outputs individually\n",
    "for gt in gpt_generated_text:\n",
    "    print(\"--------- New Generated Text----------- \\n\")\n",
    "    print(gt['generated_text'])"
   ]
  },
  {
   "cell_type": "code",
   "execution_count": null,
   "metadata": {},
   "outputs": [],
   "source": [
    "# Pre-trained distilGPT-2 Model\n",
    "distil_generator = pipeline('text-generation', model='distilgpt2')\n",
    "set_seed(42)\n",
    "distil_generated_text = distil_generator(text, max_length=50, num_return_sequences=3)\n",
    "\n",
    "# print outputs individually\n",
    "for gt in distil_generated_text:\n",
    "    print(\"--------- New Generated Text----------- \\n\")\n",
    "    print(gt['generated_text'])"
   ]
  },
  {
   "cell_type": "code",
   "execution_count": null,
   "metadata": {},
   "outputs": [],
   "source": [
    "# Exploring different decoding methods with pre-trained model\n",
    "from transformers import AutoModelForCausalLM, AutoTokenizer\n",
    "\n",
    "prompt = \"Generate a story summary with genre science fiction, mystery:\\n\"\n",
    "checkpoint = \"gpt2\"\n",
    "\n",
    "tokenizer = AutoTokenizer.from_pretrained(checkpoint)\n",
    "inputs = tokenizer(prompt, return_tensors=\"pt\")\n",
    "\n",
    "model = AutoModelForCausalLM.from_pretrained(checkpoint)\n",
    "outputs = model.generate(**inputs, \n",
    "    max_length=150, \n",
    "    num_beams=2, \n",
    "    no_repeat_ngram_size=2,\n",
    "    do_sample = True,\n",
    "    early_stopping=True)\n",
    "output = tokenizer.batch_decode(outputs, skip_special_tokens=True)\n",
    "print(output)"
   ]
  },
  {
   "cell_type": "code",
   "execution_count": null,
   "metadata": {},
   "outputs": [],
   "source": []
  }
 ],
 "metadata": {
  "kernelspec": {
   "display_name": "cs224n",
   "language": "python",
   "name": "python3"
  },
  "language_info": {
   "codemirror_mode": {
    "name": "ipython",
    "version": 3
   },
   "file_extension": ".py",
   "mimetype": "text/x-python",
   "name": "python",
   "nbconvert_exporter": "python",
   "pygments_lexer": "ipython3",
   "version": "3.7.15"
  },
  "orig_nbformat": 4
 },
 "nbformat": 4,
 "nbformat_minor": 2
}
