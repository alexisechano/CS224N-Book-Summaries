{
 "cells": [
  {
   "attachments": {},
   "cell_type": "markdown",
   "metadata": {},
   "source": [
    "# Preprocessing & Exploring the Dataset\n",
    "\n",
    "This dataset is the CMU Book Summaries dataset from Kaggle: https://www.kaggle.com/datasets/ymaricar/cmu-book-summary-dataset. It contains 16,559 books extracted from Wikipedia."
   ]
  },
  {
   "attachments": {},
   "cell_type": "markdown",
   "metadata": {},
   "source": [
    "#### Exploring the original data"
   ]
  },
  {
   "cell_type": "code",
   "execution_count": 26,
   "metadata": {},
   "outputs": [
    {
     "data": {
      "text/html": [
       "<div>\n",
       "<style scoped>\n",
       "    .dataframe tbody tr th:only-of-type {\n",
       "        vertical-align: middle;\n",
       "    }\n",
       "\n",
       "    .dataframe tbody tr th {\n",
       "        vertical-align: top;\n",
       "    }\n",
       "\n",
       "    .dataframe thead th {\n",
       "        text-align: right;\n",
       "    }\n",
       "</style>\n",
       "<table border=\"1\" class=\"dataframe\">\n",
       "  <thead>\n",
       "    <tr style=\"text-align: right;\">\n",
       "      <th></th>\n",
       "      <th>Wikipedia ID</th>\n",
       "      <th>Freebase ID</th>\n",
       "      <th>Title</th>\n",
       "      <th>Author</th>\n",
       "      <th>Publication Date</th>\n",
       "      <th>Genres</th>\n",
       "      <th>Summary</th>\n",
       "    </tr>\n",
       "  </thead>\n",
       "  <tbody>\n",
       "    <tr>\n",
       "      <th>0</th>\n",
       "      <td>620</td>\n",
       "      <td>/m/0hhy</td>\n",
       "      <td>Animal Farm</td>\n",
       "      <td>George Orwell</td>\n",
       "      <td>1945-08-17</td>\n",
       "      <td>{\"/m/016lj8\": \"Roman \\u00e0 clef\", \"/m/06nbt\":...</td>\n",
       "      <td>Old Major, the old boar on the Manor Farm, ca...</td>\n",
       "    </tr>\n",
       "    <tr>\n",
       "      <th>1</th>\n",
       "      <td>843</td>\n",
       "      <td>/m/0k36</td>\n",
       "      <td>A Clockwork Orange</td>\n",
       "      <td>Anthony Burgess</td>\n",
       "      <td>1962</td>\n",
       "      <td>{\"/m/06n90\": \"Science Fiction\", \"/m/0l67h\": \"N...</td>\n",
       "      <td>Alex, a teenager living in near-future Englan...</td>\n",
       "    </tr>\n",
       "    <tr>\n",
       "      <th>2</th>\n",
       "      <td>986</td>\n",
       "      <td>/m/0ldx</td>\n",
       "      <td>The Plague</td>\n",
       "      <td>Albert Camus</td>\n",
       "      <td>1947</td>\n",
       "      <td>{\"/m/02m4t\": \"Existentialism\", \"/m/02xlf\": \"Fi...</td>\n",
       "      <td>The text of The Plague is divided into five p...</td>\n",
       "    </tr>\n",
       "    <tr>\n",
       "      <th>3</th>\n",
       "      <td>1756</td>\n",
       "      <td>/m/0sww</td>\n",
       "      <td>An Enquiry Concerning Human Understanding</td>\n",
       "      <td>David Hume</td>\n",
       "      <td>NaN</td>\n",
       "      <td>NaN</td>\n",
       "      <td>The argument of the Enquiry proceeds by a ser...</td>\n",
       "    </tr>\n",
       "    <tr>\n",
       "      <th>4</th>\n",
       "      <td>2080</td>\n",
       "      <td>/m/0wkt</td>\n",
       "      <td>A Fire Upon the Deep</td>\n",
       "      <td>Vernor Vinge</td>\n",
       "      <td>NaN</td>\n",
       "      <td>{\"/m/03lrw\": \"Hard science fiction\", \"/m/06n90...</td>\n",
       "      <td>The novel posits that space around the Milky ...</td>\n",
       "    </tr>\n",
       "  </tbody>\n",
       "</table>\n",
       "</div>"
      ],
      "text/plain": [
       "   Wikipedia ID Freebase ID                                      Title  \\\n",
       "0           620     /m/0hhy                                Animal Farm   \n",
       "1           843     /m/0k36                         A Clockwork Orange   \n",
       "2           986     /m/0ldx                                 The Plague   \n",
       "3          1756     /m/0sww  An Enquiry Concerning Human Understanding   \n",
       "4          2080     /m/0wkt                       A Fire Upon the Deep   \n",
       "\n",
       "            Author Publication Date  \\\n",
       "0    George Orwell       1945-08-17   \n",
       "1  Anthony Burgess             1962   \n",
       "2     Albert Camus             1947   \n",
       "3       David Hume              NaN   \n",
       "4     Vernor Vinge              NaN   \n",
       "\n",
       "                                              Genres  \\\n",
       "0  {\"/m/016lj8\": \"Roman \\u00e0 clef\", \"/m/06nbt\":...   \n",
       "1  {\"/m/06n90\": \"Science Fiction\", \"/m/0l67h\": \"N...   \n",
       "2  {\"/m/02m4t\": \"Existentialism\", \"/m/02xlf\": \"Fi...   \n",
       "3                                                NaN   \n",
       "4  {\"/m/03lrw\": \"Hard science fiction\", \"/m/06n90...   \n",
       "\n",
       "                                             Summary  \n",
       "0   Old Major, the old boar on the Manor Farm, ca...  \n",
       "1   Alex, a teenager living in near-future Englan...  \n",
       "2   The text of The Plague is divided into five p...  \n",
       "3   The argument of the Enquiry proceeds by a ser...  \n",
       "4   The novel posits that space around the Milky ...  "
      ]
     },
     "execution_count": 26,
     "metadata": {},
     "output_type": "execute_result"
    }
   ],
   "source": [
    "import pandas as pd\n",
    "\n",
    "# read the file and show first few rows\n",
    "filename = 'booksummaries.txt'\n",
    "df = pd.read_csv(filename, sep=\"\\t\", \n",
    "                 names=['Wikipedia ID', 'Freebase ID', 'Title', 'Author', 'Publication Date', 'Genres', 'Summary'])\n",
    "df.head()"
   ]
  },
  {
   "cell_type": "code",
   "execution_count": 27,
   "metadata": {},
   "outputs": [
    {
     "name": "stdout",
     "output_type": "stream",
     "text": [
      "<class 'pandas.core.frame.DataFrame'>\n",
      "RangeIndex: 16559 entries, 0 to 16558\n",
      "Data columns (total 7 columns):\n",
      " #   Column            Non-Null Count  Dtype \n",
      "---  ------            --------------  ----- \n",
      " 0   Wikipedia ID      16559 non-null  int64 \n",
      " 1   Freebase ID       16559 non-null  object\n",
      " 2   Title             16559 non-null  object\n",
      " 3   Author            14177 non-null  object\n",
      " 4   Publication Date  10949 non-null  object\n",
      " 5   Genres            12841 non-null  object\n",
      " 6   Summary           16559 non-null  object\n",
      "dtypes: int64(1), object(6)\n",
      "memory usage: 905.7+ KB\n"
     ]
    }
   ],
   "source": [
    "# get dataframe information\n",
    "df.info()"
   ]
  },
  {
   "cell_type": "code",
   "execution_count": 28,
   "metadata": {},
   "outputs": [
    {
     "data": {
      "text/plain": [
       "{\"/m/05hgj\": \"Novel\"}                                                                                                                                                  839\n",
       "{\"/m/06n90\": \"Science Fiction\", \"/m/014dfn\": \"Speculative fiction\"}                                                                                                    567\n",
       "{\"/m/06n90\": \"Science Fiction\"}                                                                                                                                        526\n",
       "{\"/m/02xlf\": \"Fiction\"}                                                                                                                                                402\n",
       "{\"/m/02xlf\": \"Fiction\", \"/m/05hgj\": \"Novel\"}                                                                                                                           381\n",
       "                                                                                                                                                                      ... \n",
       "{\"/m/06n90\": \"Science Fiction\", \"/m/014dfn\": \"Speculative fiction\", \"/m/02n4kr\": \"Mystery\", \"/m/01hmnh\": \"Fantasy\", \"/m/02xlf\": \"Fiction\", \"/m/0c3351\": \"Suspense\"}      1\n",
       "{\"/m/014dfn\": \"Speculative fiction\", \"/m/01hmnh\": \"Fantasy\", \"/m/02xlf\": \"Fiction\", \"/m/0488wh\": \"Literary fiction\"}                                                     1\n",
       "{\"/m/02xlf\": \"Fiction\", \"/m/0py0z\": \"Graphic novel\", \"/m/08jhkx\": \"Anti-nuclear\"}                                                                                        1\n",
       "{\"/m/01jfsb\": \"Thriller\", \"/m/06wkf\": \"Spy fiction\", \"/m/08sdrw\": \"Adventure novel\"}                                                                                     1\n",
       "{\"/m/02ql9\": \"Epistolary novel\", \"/m/014dfn\": \"Speculative fiction\"}                                                                                                     1\n",
       "Name: Genres, Length: 2154, dtype: int64"
      ]
     },
     "execution_count": 28,
     "metadata": {},
     "output_type": "execute_result"
    }
   ],
   "source": [
    "# get count of genre grouping\n",
    "df['Genres'].value_counts()"
   ]
  },
  {
   "cell_type": "code",
   "execution_count": 29,
   "metadata": {},
   "outputs": [
    {
     "name": "stdout",
     "output_type": "stream",
     "text": [
      "Title: Animal Farm \n",
      "Genres: {\"/m/016lj8\": \"Roman \\u00e0 clef\", \"/m/06nbt\": \"Satire\", \"/m/0dwly\": \"Children's literature\", \"/m/014dfn\": \"Speculative fiction\", \"/m/02xlf\": \"Fiction\"} \n",
      "Summary:  Old Major, the old boar on the Manor Farm, calls the animals on the farm for a meeting, where he compares the humans to parasites and teaches the animals a revolutionary song, 'Beasts of England'. Wh...\n",
      "\n",
      "Title: An Enquiry Concerning Human Understanding \n",
      "Genres: nan \n",
      "Summary:  The argument of the Enquiry proceeds by a series of incremental steps, separated into chapters which logically succeed one another. After expounding his epistemology, Hume explains how to apply his p...\n"
     ]
    }
   ],
   "source": [
    "# inspect a few rows of data with truncated summaries\n",
    "print(\"Title: {} \\nGenres: {} \\nSummary: {}...\".format(df.Title[0], df.Genres[0], df.Summary[0][:200]))\n",
    "print()\n",
    "print(\"Title: {} \\nGenres: {} \\nSummary: {}...\".format(df.Title[3], df.Genres[3], df.Summary[3][:200]))"
   ]
  },
  {
   "attachments": {},
   "cell_type": "markdown",
   "metadata": {},
   "source": [
    "**Insights:** We can see that some rows do not have any genres and those who do, have them in a dictionary with some sort of ID key. The summary and title don't have any extra characters or whitespace, so most the the data cleanup and considerations are with the genres. "
   ]
  },
  {
   "attachments": {},
   "cell_type": "markdown",
   "metadata": {},
   "source": [
    "#### Preprocessing the Data"
   ]
  },
  {
   "cell_type": "code",
   "execution_count": null,
   "metadata": {},
   "outputs": [],
   "source": []
  }
 ],
 "metadata": {
  "kernelspec": {
   "display_name": "Python 3",
   "language": "python",
   "name": "python3"
  },
  "language_info": {
   "codemirror_mode": {
    "name": "ipython",
    "version": 3
   },
   "file_extension": ".py",
   "mimetype": "text/x-python",
   "name": "python",
   "nbconvert_exporter": "python",
   "pygments_lexer": "ipython3",
   "version": "3.10.6"
  },
  "orig_nbformat": 4,
  "vscode": {
   "interpreter": {
    "hash": "6aed7db9dab27df7b5787fa18491480f2cbdd1365121cefdc1309f24f04e7235"
   }
  }
 },
 "nbformat": 4,
 "nbformat_minor": 2
}
