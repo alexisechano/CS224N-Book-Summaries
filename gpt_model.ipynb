{
 "cells": [
  {
   "attachments": {},
   "cell_type": "markdown",
   "metadata": {},
   "source": [
    "# Basic GPT-2 Model\n",
    "\n",
    "We are now using HuggingFace's model! I am currently using [this article](https://www.modeldifferently.com/en/2021/12/generaci%C3%B3n-de-fake-news-con-gpt-2/) and [this HuggingFace link](https://huggingface.co/gpt2)."
   ]
  },
  {
   "cell_type": "code",
   "execution_count": 2,
   "metadata": {},
   "outputs": [],
   "source": [
    "# import hugging face\n",
    "from transformers import GPT2Tokenizer, GPT2LMHeadModel, pipeline, set_seed"
   ]
  },
  {
   "cell_type": "code",
   "execution_count": 7,
   "metadata": {},
   "outputs": [],
   "source": [
    "# basic GPT-2 model (from the site)\n",
    "tokenizer = GPT2Tokenizer.from_pretrained('gpt2')\n",
    "model = GPT2LMHeadModel.from_pretrained('gpt2')"
   ]
  },
  {
   "cell_type": "code",
   "execution_count": 17,
   "metadata": {},
   "outputs": [
    {
     "name": "stderr",
     "output_type": "stream",
     "text": [
      "The attention mask and the pad token id were not set. As a consequence, you may observe unexpected behavior. Please pass your input's `attention_mask` to obtain reliable results.\n",
      "Setting `pad_token_id` to `eos_token_id`:50256 for open-end generation.\n"
     ]
    },
    {
     "name": "stdout",
     "output_type": "stream",
     "text": [
      "0: This is a comedy story: a young man who has been living in a small town for a few\n",
      "\n"
     ]
    }
   ],
   "source": [
    "# test the model\n",
    "text = \"This is a comedy story:\"\n",
    "text_ids = tokenizer.encode(text, return_tensors = 'pt')\n",
    "\n",
    "generated_text_samples = model.generate(text_ids)\n",
    "\n",
    "#Print output for each sequence generated above\n",
    "for i, beam in enumerate(generated_text_samples):\n",
    "  print(\"{}: {}\".format(i,tokenizer.decode(beam, skip_special_tokens=True)))\n",
    "  print()"
   ]
  },
  {
   "cell_type": "code",
   "execution_count": 20,
   "metadata": {},
   "outputs": [
    {
     "name": "stderr",
     "output_type": "stream",
     "text": [
      "Setting `pad_token_id` to `eos_token_id`:50256 for open-end generation.\n"
     ]
    },
    {
     "data": {
      "text/plain": [
       "[{'generated_text': \"This is a comedy story: The girl who's been following everyone who happened to miss her for the entire book is called her 'Bubba' (a black-skinned girl who's not a fan of KATOR) at school. While\"},\n",
       " {'generated_text': \"This is a comedy story: What you'd see in this film. We're taking the audience by surprise. This person is no ordinary person who has nothing of her own, what he stands to gain by going there would be to the end of the\"},\n",
       " {'generated_text': \"This is a comedy story: the world is overrun by terrorists, and each time one comes out looking for more explosives, more money, more power, all the time. All the time—but most of the time it's bad. Some of the\"},\n",
       " {'generated_text': 'This is a comedy story: a series of films that were both funny and memorable after a period of time in the UK, and about how it is possible to not only survive but thrive in this moment, and where there is nothing very good in it'},\n",
       " {'generated_text': 'This is a comedy story: a child loses everything. He loses his parents and goes back home, with no hope of returning to his hometown.\\n\\nWhat you can expect for that character is a great take on his character -- in real life,'}]"
      ]
     },
     "execution_count": 20,
     "metadata": {},
     "output_type": "execute_result"
    }
   ],
   "source": [
    "# use hugging face documentation\n",
    "generator = pipeline('text-generation', model='gpt2')\n",
    "set_seed(42)\n",
    "generator(text, max_length=50, num_return_sequences=5)"
   ]
  },
  {
   "cell_type": "code",
   "execution_count": null,
   "metadata": {},
   "outputs": [],
   "source": []
  }
 ],
 "metadata": {
  "kernelspec": {
   "display_name": "cs224n",
   "language": "python",
   "name": "python3"
  },
  "language_info": {
   "codemirror_mode": {
    "name": "ipython",
    "version": 3
   },
   "file_extension": ".py",
   "mimetype": "text/x-python",
   "name": "python",
   "nbconvert_exporter": "python",
   "pygments_lexer": "ipython3",
   "version": "3.7.15"
  },
  "orig_nbformat": 4
 },
 "nbformat": 4,
 "nbformat_minor": 2
}
