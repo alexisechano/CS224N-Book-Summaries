{
 "cells": [
  {
   "cell_type": "code",
   "execution_count": 6,
   "metadata": {},
   "outputs": [],
   "source": [
    "# get the file data\n",
    "from transformers import GPT2Tokenizer, GPT2LMHeadModel\n",
    "\n",
    "# change dir depending on where it is\n",
    "checkpoint = '/Users/alexisechano/Desktop/models/content/model_config'\n",
    "model = GPT2LMHeadModel.from_pretrained(checkpoint, local_files_only=True)\n",
    "tokenizer = GPT2Tokenizer.from_pretrained(checkpoint, local_files_only=True)"
   ]
  },
  {
   "cell_type": "code",
   "execution_count": 7,
   "metadata": {},
   "outputs": [
    {
     "data": {
      "text/html": [
       "<div>\n",
       "<style scoped>\n",
       "    .dataframe tbody tr th:only-of-type {\n",
       "        vertical-align: middle;\n",
       "    }\n",
       "\n",
       "    .dataframe tbody tr th {\n",
       "        vertical-align: top;\n",
       "    }\n",
       "\n",
       "    .dataframe thead th {\n",
       "        text-align: right;\n",
       "    }\n",
       "</style>\n",
       "<table border=\"1\" class=\"dataframe\">\n",
       "  <thead>\n",
       "    <tr style=\"text-align: right;\">\n",
       "      <th></th>\n",
       "      <th>Text</th>\n",
       "    </tr>\n",
       "  </thead>\n",
       "  <tbody>\n",
       "    <tr>\n",
       "      <th>0</th>\n",
       "      <td>Generate a book summary with genres Science Fi...</td>\n",
       "    </tr>\n",
       "    <tr>\n",
       "      <th>1</th>\n",
       "      <td>Generate a book summary with genres Fantasy:\\n...</td>\n",
       "    </tr>\n",
       "    <tr>\n",
       "      <th>2</th>\n",
       "      <td>Generate a book summary with genres Crime Fict...</td>\n",
       "    </tr>\n",
       "    <tr>\n",
       "      <th>3</th>\n",
       "      <td>Generate a book summary with genres Fiction, N...</td>\n",
       "    </tr>\n",
       "    <tr>\n",
       "      <th>4</th>\n",
       "      <td>Generate a book summary with genres War novel,...</td>\n",
       "    </tr>\n",
       "  </tbody>\n",
       "</table>\n",
       "</div>"
      ],
      "text/plain": [
       "                                                Text\n",
       "0  Generate a book summary with genres Science Fi...\n",
       "1  Generate a book summary with genres Fantasy:\\n...\n",
       "2  Generate a book summary with genres Crime Fict...\n",
       "3  Generate a book summary with genres Fiction, N...\n",
       "4  Generate a book summary with genres War novel,..."
      ]
     },
     "execution_count": 7,
     "metadata": {},
     "output_type": "execute_result"
    }
   ],
   "source": [
    "# read in data\n",
    "from datasets import Dataset\n",
    "import pandas as pd\n",
    "filename = 'data/5000_booksummaries.zip'\n",
    "tokens_df = pd.read_csv(filename)\n",
    "tokens_df.head(5)"
   ]
  },
  {
   "cell_type": "code",
   "execution_count": 8,
   "metadata": {},
   "outputs": [],
   "source": [
    "# split data into train and test/eval data\n",
    "from sklearn.model_selection import train_test_split\n",
    "\n",
    "# split into train (80%), val (10%), test (10%)\n",
    "train_data, test_eval_dataset = train_test_split(tokens_df, test_size=0.2, random_state=8)\n",
    "eval_set, test_set = train_test_split(test_eval_dataset, test_size=0.5, random_state=8)\n",
    "\n",
    "# create HuggingFace Datasets\n",
    "train_ds = Dataset.from_pandas(train_data)\n",
    "eval_ds = Dataset.from_pandas(eval_set)\n",
    "test_ds = Dataset.from_pandas(test_set)"
   ]
  },
  {
   "cell_type": "code",
   "execution_count": 9,
   "metadata": {},
   "outputs": [
    {
     "name": "stderr",
     "output_type": "stream",
     "text": [
      "Setting `pad_token_id` to `eos_token_id`:50256 for open-end generation.\n"
     ]
    },
    {
     "name": "stdout",
     "output_type": "stream",
     "text": [
      "Generate a book summary with genre science fiction:\n",
      " The story revolves around the adventures of a group of space travelers on a mission to Mars, where they discover a new species of plant life. The colonists are forced to adapt to the harsh environment of Mars. In order to survive, they must survive in a harsh and hostile environment. They also face a number of hostile alien species, including the deadly and technologically advanced \"Space Invaders\". The book is divided into four parts: The first part focuses on the colonists' journey into space, and the second part is on their journey back to Earth. At the end of the book, the crew of Apollo 11 are reunited with their crewmates, Dr. Neil Armstrong and Edgar Mitchell, who are returning from\n"
     ]
    }
   ],
   "source": [
    "# load input prompt\n",
    "input_prompt = \"Generate a book summary with genre science fiction:\\n\"\n",
    "inputs = tokenizer(input_prompt, return_tensors=\"pt\")\n",
    "\n",
    "# generate output from pretrained experiments (see baseline file)\n",
    "outputs = model.generate(**inputs, \n",
    "    max_length=150, \n",
    "    num_beams=2, \n",
    "    no_repeat_ngram_size=2, \n",
    "    do_sample=True,\n",
    "    early_stopping=True)\n",
    "\n",
    "# decode output and print out summary\n",
    "output = tokenizer.batch_decode(outputs, skip_special_tokens=True)\n",
    "print(output[0])"
   ]
  },
  {
   "cell_type": "code",
   "execution_count": 14,
   "metadata": {},
   "outputs": [
    {
     "name": "stdout",
     "output_type": "stream",
     "text": [
      "Collecting bert_score\n",
      "  Using cached bert_score-0.3.13-py3-none-any.whl (61 kB)\n",
      "Requirement already satisfied: transformers>=3.0.0 in /Users/alexisechano/opt/anaconda3/envs/cs224n/lib/python3.7/site-packages (from bert_score) (4.24.0)\n",
      "Requirement already satisfied: packaging>=20.9 in /Users/alexisechano/opt/anaconda3/envs/cs224n/lib/python3.7/site-packages (from bert_score) (22.0)\n",
      "Requirement already satisfied: torch>=1.0.0 in /Users/alexisechano/opt/anaconda3/envs/cs224n/lib/python3.7/site-packages (from bert_score) (1.13.1)\n",
      "Requirement already satisfied: matplotlib in /Users/alexisechano/opt/anaconda3/envs/cs224n/lib/python3.7/site-packages (from bert_score) (3.5.3)\n",
      "Requirement already satisfied: pandas>=1.0.1 in /Users/alexisechano/opt/anaconda3/envs/cs224n/lib/python3.7/site-packages (from bert_score) (1.3.5)\n",
      "Requirement already satisfied: requests in /Users/alexisechano/opt/anaconda3/envs/cs224n/lib/python3.7/site-packages (from bert_score) (2.28.1)\n",
      "Requirement already satisfied: numpy in /Users/alexisechano/opt/anaconda3/envs/cs224n/lib/python3.7/site-packages (from bert_score) (1.21.5)\n",
      "Requirement already satisfied: tqdm>=4.31.1 in /Users/alexisechano/opt/anaconda3/envs/cs224n/lib/python3.7/site-packages (from bert_score) (4.64.0)\n",
      "Requirement already satisfied: python-dateutil>=2.7.3 in /Users/alexisechano/opt/anaconda3/envs/cs224n/lib/python3.7/site-packages (from pandas>=1.0.1->bert_score) (2.8.2)\n",
      "Requirement already satisfied: pytz>=2017.3 in /Users/alexisechano/opt/anaconda3/envs/cs224n/lib/python3.7/site-packages (from pandas>=1.0.1->bert_score) (2022.7)\n",
      "Requirement already satisfied: typing_extensions in /Users/alexisechano/opt/anaconda3/envs/cs224n/lib/python3.7/site-packages (from torch>=1.0.0->bert_score) (4.4.0)\n",
      "Requirement already satisfied: pyyaml>=5.1 in /Users/alexisechano/opt/anaconda3/envs/cs224n/lib/python3.7/site-packages (from transformers>=3.0.0->bert_score) (6.0)\n",
      "Requirement already satisfied: filelock in /Users/alexisechano/opt/anaconda3/envs/cs224n/lib/python3.7/site-packages (from transformers>=3.0.0->bert_score) (3.9.0)\n",
      "Requirement already satisfied: huggingface-hub<1.0,>=0.10.0 in /Users/alexisechano/opt/anaconda3/envs/cs224n/lib/python3.7/site-packages (from transformers>=3.0.0->bert_score) (0.10.1)\n",
      "Requirement already satisfied: tokenizers!=0.11.3,<0.14,>=0.11.1 in /Users/alexisechano/opt/anaconda3/envs/cs224n/lib/python3.7/site-packages (from transformers>=3.0.0->bert_score) (0.11.4)\n",
      "Requirement already satisfied: importlib-metadata in /Users/alexisechano/opt/anaconda3/envs/cs224n/lib/python3.7/site-packages (from transformers>=3.0.0->bert_score) (4.11.3)\n",
      "Requirement already satisfied: regex!=2019.12.17 in /Users/alexisechano/opt/anaconda3/envs/cs224n/lib/python3.7/site-packages (from transformers>=3.0.0->bert_score) (2022.7.9)\n",
      "Requirement already satisfied: kiwisolver>=1.0.1 in /Users/alexisechano/opt/anaconda3/envs/cs224n/lib/python3.7/site-packages (from matplotlib->bert_score) (1.4.4)\n",
      "Requirement already satisfied: fonttools>=4.22.0 in /Users/alexisechano/opt/anaconda3/envs/cs224n/lib/python3.7/site-packages (from matplotlib->bert_score) (4.25.0)\n",
      "Requirement already satisfied: pillow>=6.2.0 in /Users/alexisechano/opt/anaconda3/envs/cs224n/lib/python3.7/site-packages (from matplotlib->bert_score) (9.3.0)\n",
      "Requirement already satisfied: pyparsing>=2.2.1 in /Users/alexisechano/opt/anaconda3/envs/cs224n/lib/python3.7/site-packages (from matplotlib->bert_score) (3.0.9)\n",
      "Requirement already satisfied: cycler>=0.10 in /Users/alexisechano/opt/anaconda3/envs/cs224n/lib/python3.7/site-packages (from matplotlib->bert_score) (0.11.0)\n",
      "Requirement already satisfied: idna<4,>=2.5 in /Users/alexisechano/opt/anaconda3/envs/cs224n/lib/python3.7/site-packages (from requests->bert_score) (3.4)\n",
      "Requirement already satisfied: certifi>=2017.4.17 in /Users/alexisechano/opt/anaconda3/envs/cs224n/lib/python3.7/site-packages (from requests->bert_score) (2022.12.7)\n",
      "Requirement already satisfied: charset-normalizer<3,>=2 in /Users/alexisechano/opt/anaconda3/envs/cs224n/lib/python3.7/site-packages (from requests->bert_score) (2.0.4)\n",
      "Requirement already satisfied: urllib3<1.27,>=1.21.1 in /Users/alexisechano/opt/anaconda3/envs/cs224n/lib/python3.7/site-packages (from requests->bert_score) (1.26.13)\n",
      "Requirement already satisfied: six>=1.5 in /Users/alexisechano/opt/anaconda3/envs/cs224n/lib/python3.7/site-packages (from python-dateutil>=2.7.3->pandas>=1.0.1->bert_score) (1.16.0)\n",
      "Requirement already satisfied: zipp>=0.5 in /Users/alexisechano/opt/anaconda3/envs/cs224n/lib/python3.7/site-packages (from importlib-metadata->transformers>=3.0.0->bert_score) (3.11.0)\n",
      "Installing collected packages: bert_score\n",
      "Successfully installed bert_score-0.3.13\n"
     ]
    }
   ],
   "source": [
    "# use BERTScores to analyze\n",
    "!pip install bert_score\n",
    "from evaluate import load\n",
    "bertscore = load(\"bertscore\")"
   ]
  },
  {
   "cell_type": "code",
   "execution_count": 25,
   "metadata": {},
   "outputs": [],
   "source": [
    "def truncate_to_prompt(whole_text):\n",
    "    tok = whole_text.index(':')\n",
    "    return whole_text[:tok+2] # returns text with new line\n",
    "\n",
    "def generate_summary_from_prompt(input):\n",
    "    prompt = truncate_to_prompt(input)\n",
    "    inputs = tokenizer(prompt, return_tensors=\"pt\")\n",
    "\n",
    "    # generate output from pretrained experiments (see baseline file)\n",
    "    outputs = model.generate(**inputs, \n",
    "        max_length=150, \n",
    "        num_beams=2, \n",
    "        no_repeat_ngram_size=2, \n",
    "        do_sample=True,\n",
    "        early_stopping=True)\n",
    "\n",
    "    # decode output and return out summary\n",
    "    return tokenizer.batch_decode(outputs, skip_special_tokens=True)[0]"
   ]
  },
  {
   "cell_type": "code",
   "execution_count": 30,
   "metadata": {},
   "outputs": [
    {
     "name": "stderr",
     "output_type": "stream",
     "text": [
      "Setting `pad_token_id` to `eos_token_id`:50256 for open-end generation.\n",
      "Setting `pad_token_id` to `eos_token_id`:50256 for open-end generation.\n",
      "Setting `pad_token_id` to `eos_token_id`:50256 for open-end generation.\n"
     ]
    }
   ],
   "source": [
    "# run model to generate predictions\n",
    "references = []\n",
    "predictions = []\n",
    "counter = 0\n",
    "for example in test_ds:\n",
    "    if counter == 3:\n",
    "        break\n",
    "    input = example[\"Text\"]\n",
    "    references.append(input)\n",
    "    predictions.append(generate_summary_from_prompt(input))\n",
    "    counter+=1"
   ]
  },
  {
   "cell_type": "code",
   "execution_count": 31,
   "metadata": {},
   "outputs": [
    {
     "data": {
      "application/vnd.jupyter.widget-view+json": {
       "model_id": "799c9140dfa34960b0e4e332f110db80",
       "version_major": 2,
       "version_minor": 0
      },
      "text/plain": [
       "Downloading:   0%|          | 0.00/482 [00:00<?, ?B/s]"
      ]
     },
     "metadata": {},
     "output_type": "display_data"
    },
    {
     "data": {
      "application/vnd.jupyter.widget-view+json": {
       "model_id": "5f22f04698b4495a98ced61c9c6197ec",
       "version_major": 2,
       "version_minor": 0
      },
      "text/plain": [
       "Downloading:   0%|          | 0.00/899k [00:00<?, ?B/s]"
      ]
     },
     "metadata": {},
     "output_type": "display_data"
    },
    {
     "data": {
      "application/vnd.jupyter.widget-view+json": {
       "model_id": "d003a8ca7b194ad0998adc9d322d75c6",
       "version_major": 2,
       "version_minor": 0
      },
      "text/plain": [
       "Downloading:   0%|          | 0.00/456k [00:00<?, ?B/s]"
      ]
     },
     "metadata": {},
     "output_type": "display_data"
    },
    {
     "data": {
      "application/vnd.jupyter.widget-view+json": {
       "model_id": "edca58d8b0264daa93a89da9923ccfba",
       "version_major": 2,
       "version_minor": 0
      },
      "text/plain": [
       "Downloading:   0%|          | 0.00/1.43G [00:00<?, ?B/s]"
      ]
     },
     "metadata": {},
     "output_type": "display_data"
    },
    {
     "name": "stdout",
     "output_type": "stream",
     "text": [
      "{'precision': [0.8402963876724243, 0.8501315712928772, 0.8599704504013062], 'recall': [0.8156370520591736, 0.8223854899406433, 0.8288074135780334], 'f1': [0.8277831673622131, 0.8360283374786377, 0.8441013693809509], 'hashcode': 'roberta-large_L17_no-idf_version=0.3.12(hug_trans=4.24.0)'}\n"
     ]
    }
   ],
   "source": [
    "results = bertscore.compute(predictions=predictions, references=references, lang=\"en\")\n",
    "print(results)"
   ]
  }
 ],
 "metadata": {
  "kernelspec": {
   "display_name": "cs224n",
   "language": "python",
   "name": "python3"
  },
  "language_info": {
   "codemirror_mode": {
    "name": "ipython",
    "version": 3
   },
   "file_extension": ".py",
   "mimetype": "text/x-python",
   "name": "python",
   "nbconvert_exporter": "python",
   "pygments_lexer": "ipython3",
   "version": "3.7.15"
  },
  "orig_nbformat": 4
 },
 "nbformat": 4,
 "nbformat_minor": 2
}
